{
 "cells": [
  {
   "cell_type": "markdown",
   "metadata": {},
   "source": [
    "In this project we will be analyzing the published data that New York City has on student SAT scores by high school, along with additional demographic data sets. We will be working with various CSV files in a 'school' folder, and seeing as we're working with various data sets, we will be combining all the data in this 'school' folder into a single, clean pandas dataframe. The data cleaning process was done in previous missions, so we'll quickly repeat the process in this notebook and focus on the data analysis."
   ]
  },
  {
   "cell_type": "code",
   "execution_count": 1,
   "metadata": {},
   "outputs": [],
   "source": [
    "import pandas as pd\n",
    "import numpy\n",
    "import re\n",
    "import matplotlib\n",
    "\n",
    "# All the files we want to read in\n",
    "data_files = [\n",
    "    \"ap_2010.csv\",\n",
    "    \"class_size.csv\",\n",
    "    \"demographics.csv\",\n",
    "    \"graduation.csv\",\n",
    "    \"hs_directory.csv\",\n",
    "    \"sat_results.csv\"\n",
    "]\n",
    "\n",
    "data = {}\n",
    "\n",
    "for i in data_files:\n",
    "    # All the datsets are in a folder called 'schools'\n",
    "    f = pd.read_csv('schools/{0}'.format(i))\n",
    "    \n",
    "    # Add each of the dataframes to the dictionary data, using the base of the filename as the key. \n",
    "    key_name = i.replace('.csv', '')\n",
    "    \n",
    "    # Each key in data should have the corresponding dataframe as its value\n",
    "    data[key_name] = f"
   ]
  },
  {
   "cell_type": "markdown",
   "metadata": {},
   "source": [
    "## Reading in the Survey Data"
   ]
  },
  {
   "cell_type": "code",
   "execution_count": 2,
   "metadata": {},
   "outputs": [
    {
     "name": "stdout",
     "output_type": "stream",
     "text": [
      "      DBN  rr_s  rr_t  rr_p    N_s   N_t    N_p  saf_p_11  com_p_11  eng_p_11  \\\n",
      "0  01M015   NaN    88    60    NaN  22.0   90.0       8.5       7.6       7.5   \n",
      "1  01M019   NaN   100    60    NaN  34.0  161.0       8.4       7.6       7.6   \n",
      "2  01M020   NaN    88    73    NaN  42.0  367.0       8.9       8.3       8.3   \n",
      "3  01M034  89.0    73    50  145.0  29.0  151.0       8.8       8.2       8.0   \n",
      "4  01M063   NaN   100    60    NaN  23.0   90.0       8.7       7.9       8.1   \n",
      "\n",
      "      ...      eng_t_11  aca_t_11  saf_s_11  com_s_11  eng_s_11  aca_s_11  \\\n",
      "0     ...           7.6       7.9       NaN       NaN       NaN       NaN   \n",
      "1     ...           8.9       9.1       NaN       NaN       NaN       NaN   \n",
      "2     ...           6.8       7.5       NaN       NaN       NaN       NaN   \n",
      "3     ...           6.8       7.8       6.2       5.9       6.5       7.4   \n",
      "4     ...           7.8       8.1       NaN       NaN       NaN       NaN   \n",
      "\n",
      "   saf_tot_11  com_tot_11  eng_tot_11  aca_tot_11  \n",
      "0         8.0         7.7         7.5         7.9  \n",
      "1         8.5         8.1         8.2         8.4  \n",
      "2         8.2         7.3         7.5         8.0  \n",
      "3         7.3         6.7         7.1         7.9  \n",
      "4         8.5         7.6         7.9         8.0  \n",
      "\n",
      "[5 rows x 23 columns]\n"
     ]
    }
   ],
   "source": [
    "# Need to specify the encoding and delimiter to the pd.read_csv() function to ensure it reads the surveys in properly.\n",
    "all_survey = pd.read_csv('schools/survey_all.txt', delimiter = '\\t', encoding = 'windows-1252')\n",
    "d75_survey = pd.read_csv('schools/survey_d75.txt', delimiter = '\\t', encoding = 'windows-1252')\n",
    "\n",
    "# The code will combine the dataframes by appending d75_survey to the bottom of all_survey, axis(0 = rows, 1 = column)\n",
    "survey = pd.concat([all_survey, d75_survey], axis = 0, sort = False)\n",
    "\n",
    "# Change 'dbn' to 'DBN' so it is similar with the format in the 'sat_results' file\n",
    "survey['DBN'] = survey['dbn']\n",
    "\n",
    "# Relevant columns from the survey \n",
    "survey_fields = [\"DBN\", \"rr_s\", \"rr_t\", \"rr_p\", \"N_s\", \"N_t\", \"N_p\", \"saf_p_11\", \"com_p_11\", \"eng_p_11\", \"aca_p_11\", \n",
    "        \"saf_t_11\", \"com_t_11\", \"eng_t_11\", \"aca_t_11\", \"saf_s_11\", \"com_s_11\", \"eng_s_11\", \"aca_s_11\", \"saf_tot_11\", \n",
    "        \"com_tot_11\", \"eng_tot_11\", \"aca_tot_11\"\n",
    "       ]\n",
    "# Add 'survey' as a key and Dataframe as value to the dictionary data\n",
    "survey = survey[survey_fields]\n",
    "data['survey'] = survey\n",
    "\n",
    "print(survey.head(5))"
   ]
  },
  {
   "cell_type": "markdown",
   "metadata": {},
   "source": [
    "## Add DBN Columns"
   ]
  },
  {
   "cell_type": "code",
   "execution_count": 3,
   "metadata": {},
   "outputs": [],
   "source": [
    "# Change 'dbn' to 'DBN' so it is similar with the format in the 'sat_results' file\n",
    "data['hs_directory']['DBN'] = data['hs_directory']['dbn']\n",
    "\n",
    "# DBN in 'class-size' file is combination of 'CSD' and 'SCHOOL CODE' columns\n",
    "# DBN padded, so CSD portion always consists of 2 digits\n",
    "# Need to create function that adds a leading 0 to the CSD if the CSD is less than two digits long.\n",
    "def pad_csd(num):\n",
    "    string_representation = str(num)\n",
    "    if len(string_representation) > 1:\n",
    "        return string_representation\n",
    "    else:\n",
    "        return string_representation.zfill(2)\n",
    "\n",
    "data['class_size']['padded_csd'] = data['class_size']['CSD'].apply(pad_csd)\n",
    "data['class_size']['DBN'] = data['class_size']['padded_csd'] + data['class_size']['SCHOOL CODE']"
   ]
  },
  {
   "cell_type": "markdown",
   "metadata": {},
   "source": [
    "## Converting Columns to Numeric"
   ]
  },
  {
   "cell_type": "code",
   "execution_count": 4,
   "metadata": {},
   "outputs": [],
   "source": [
    "# Create a column that is the total of the SAT scores for different sections of the exam\n",
    "# Much easier to correlate scores with demographic factors as we'll be working with a single number\n",
    "cols = ['SAT Math Avg. Score', 'SAT Critical Reading Avg. Score', 'SAT Writing Avg. Score']\n",
    "\n",
    "for c in cols:\n",
    "    # pd.to_numeric converts string to int. Use keyword argument errors = 'coerce' so pandas treats any \n",
    "    # invalid strings it cant convert as missing values\n",
    "    data[\"sat_results\"][c] = pd.to_numeric(data[\"sat_results\"][c], errors=\"coerce\")\n",
    "\n",
    "data['sat_results']['sat_score'] = data['sat_results'][cols[0]] + data['sat_results'][cols[1]] + data['sat_results'][cols[2]]\n",
    "\n",
    "\n",
    "# We'll want to parse the latitude and longitude coordinates for each school\n",
    "# Will enable us to map the schools and uncover any geographic patterns in the data\n",
    "# The coordinates are in the text field Location 1 in the hs_directory data set.\n",
    "def extract_lat(loc):\n",
    "    coords = re.findall(\"\\(.+\\)\", loc)\n",
    "    lat = coords[0].split(\",\")[0].replace(\"(\", \"\")\n",
    "    return lat\n",
    "\n",
    "def extract_lon(loc):\n",
    "    coords = re.findall(\"\\(.+\\)\", loc)\n",
    "    lon = coords[0].split(\",\")[1].replace(\")\", \"\")\n",
    "    return lon\n",
    "\n",
    "data[\"hs_directory\"][\"lat\"] = data[\"hs_directory\"][\"Location 1\"].apply(extract_lat)\n",
    "data[\"hs_directory\"][\"lon\"] = data[\"hs_directory\"][\"Location 1\"].apply(extract_lon)\n",
    "\n",
    "data['hs_directory']['lon'] = pd.to_numeric(data[\"hs_directory\"][\"lon\"], errors=\"coerce\")\n",
    "data['hs_directory']['lat'] = pd.to_numeric(data[\"hs_directory\"][\"lat\"], errors=\"coerce\")"
   ]
  },
  {
   "cell_type": "markdown",
   "metadata": {},
   "source": [
    "## Condensing Datasets"
   ]
  },
  {
   "cell_type": "code",
   "execution_count": 5,
   "metadata": {},
   "outputs": [],
   "source": [
    "class_size = data['class_size']\n",
    "\n",
    "# Because we're dealing with high schools, we will filter out everything in 'GRADE ' that isn't '09-12'\n",
    "# Because GEN ED is the largest program type, let's only select rows where 'PROGRAM TYPE' is 'GEN ED'\n",
    "class_size = class_size[class_size['GRADE '] == \"09-12\"]\n",
    "class_size = class_size[class_size['PROGRAM TYPE'] == 'GEN ED']\n",
    "\n",
    "# Use DataFrame.groupby() to ensure each value in 'DBN' is unique and agg() method to find mean of each column\n",
    "class_size = class_size.groupby('DBN').agg(numpy.mean)\n",
    "\n",
    "# use DataFrame.reset_index() to reset the index to a list of integers and make DBN a column again.\n",
    "class_size.reset_index(inplace = True)\n",
    "data['class_size'] = class_size\n",
    "\n",
    "# The only column that prevents a given DBN from being unique is schoolyear\n",
    "# Select rows where schoolyear is 20112012, this gives most recent year of data and matches 'sat_results' data\n",
    "data[\"demographics\"] = data[\"demographics\"][data[\"demographics\"][\"schoolyear\"] == 20112012]\n",
    "\n",
    "# The Demographic and Cohort columns are what prevent DBN from being unique in the graduation data.\n",
    "data['graduation'] = data['graduation'][data['graduation']['Cohort'] == '2006'] # 2006 most recent Cohort\n",
    "data['graduation'] = data['graduation'][data['graduation']['Demographic'] == 'Total Cohort']"
   ]
  },
  {
   "cell_type": "markdown",
   "metadata": {},
   "source": [
    "## Converting AP Scores to Numeric"
   ]
  },
  {
   "cell_type": "code",
   "execution_count": 6,
   "metadata": {},
   "outputs": [],
   "source": [
    "# Convert AP Scores to see if there are any correlation with SAT scores across high schools\n",
    "cols = ['AP Test Takers ', 'Total Exams Taken', 'Number of Exams with scores 3 4 or 5']\n",
    "\n",
    "for c in cols:\n",
    "    data['ap_2010'][c] = pd.to_numeric(data['ap_2010'][c], errors=\"coerce\")"
   ]
  },
  {
   "cell_type": "markdown",
   "metadata": {},
   "source": [
    "## Combining the Data Sets"
   ]
  },
  {
   "cell_type": "code",
   "execution_count": 7,
   "metadata": {},
   "outputs": [],
   "source": [
    "combined = data[\"sat_results\"]\n",
    "\n",
    "# Both the ap_2010 and the graduation data sets have many missing DBN values, so a left join is used to merge with 'sat_results'\n",
    "combined = combined.merge(data['ap_2010'], how = 'left', on = 'DBN')\n",
    "combined = combined.merge(data['graduation'], how = 'left', on = 'DBN')\n",
    "\n",
    "to_merge = [\"class_size\", \"demographics\", \"survey\", \"hs_directory\"]\n",
    "\n",
    "# The files in the variable 'to_merge' contain information that's more valuable to our analysisso we'll use an inner join\n",
    "for m in to_merge:\n",
    "    combined = combined.merge(data[m], on=\"DBN\", how=\"inner\")\n",
    "\n",
    "#  fill in the missing values in each column with the mean of that column\n",
    "combined = combined.fillna(combined.mean())\n",
    "# fill any NaN or null values that remain after the initial replacement with the value 0\n",
    "combined = combined.fillna(0)"
   ]
  },
  {
   "cell_type": "markdown",
   "metadata": {},
   "source": [
    "## Adding a School District Column for Mapping"
   ]
  },
  {
   "cell_type": "code",
   "execution_count": 8,
   "metadata": {},
   "outputs": [],
   "source": [
    "# Add a column for school districts to carry out mapping the statistics\n",
    "def first_two_char(dbn):\n",
    "    name = dbn\n",
    "    return name[:2]\n",
    "\n",
    "combined[\"school_dist\"] = combined[\"DBN\"].apply(first_two_char)"
   ]
  },
  {
   "cell_type": "markdown",
   "metadata": {},
   "source": [
    "## Finding Correlations"
   ]
  },
  {
   "cell_type": "code",
   "execution_count": 9,
   "metadata": {},
   "outputs": [
    {
     "name": "stdout",
     "output_type": "stream",
     "text": [
      "SAT Critical Reading Avg. Score         0.986820\n",
      "SAT Math Avg. Score                     0.972643\n",
      "SAT Writing Avg. Score                  0.987771\n",
      "sat_score                               1.000000\n",
      "AP Test Takers                          0.412667\n",
      "Total Exams Taken                       0.388975\n",
      "Number of Exams with scores 3 4 or 5    0.382931\n",
      "CSD                                     0.042948\n",
      "NUMBER OF SECTIONS                      0.362673\n",
      "AVERAGE CLASS SIZE                      0.381014\n",
      "SIZE OF SMALLEST CLASS                  0.249949\n",
      "SIZE OF LARGEST CLASS                   0.314434\n",
      "SCHOOLWIDE PUPIL-TEACHER RATIO               NaN\n",
      "schoolyear                                   NaN\n",
      "fl_percent                                   NaN\n",
      "frl_percent                            -0.722225\n",
      "total_enrollment                        0.367857\n",
      "ell_num                                -0.153778\n",
      "ell_percent                            -0.398750\n",
      "sped_num                                0.034933\n",
      "sped_percent                           -0.448170\n",
      "asian_num                               0.475445\n",
      "asian_per                               0.570730\n",
      "black_num                               0.027979\n",
      "black_per                              -0.284139\n",
      "hispanic_num                            0.025744\n",
      "hispanic_per                           -0.396985\n",
      "white_num                               0.449559\n",
      "white_per                               0.620718\n",
      "male_num                                0.325520\n",
      "                                          ...   \n",
      "N_t                                     0.291463\n",
      "N_p                                     0.421530\n",
      "saf_p_11                                0.122913\n",
      "com_p_11                               -0.115073\n",
      "eng_p_11                                0.020254\n",
      "aca_p_11                                0.035155\n",
      "saf_t_11                                0.313810\n",
      "com_t_11                                0.082419\n",
      "eng_t_11                                0.036906\n",
      "aca_t_11                                0.132348\n",
      "saf_s_11                                0.337639\n",
      "com_s_11                                0.187370\n",
      "eng_s_11                                0.213822\n",
      "aca_s_11                                0.339435\n",
      "saf_tot_11                              0.318753\n",
      "com_tot_11                              0.077310\n",
      "eng_tot_11                              0.100102\n",
      "aca_tot_11                              0.190966\n",
      "grade_span_min                         -0.021315\n",
      "grade_span_max                               NaN\n",
      "expgrade_span_min                            NaN\n",
      "expgrade_span_max                            NaN\n",
      "number_programs                         0.117012\n",
      "priority08                                   NaN\n",
      "priority09                                   NaN\n",
      "priority10                                   NaN\n",
      "Community Board                        -0.060919\n",
      "Council District                       -0.076151\n",
      "lat                                    -0.121029\n",
      "lon                                    -0.132222\n",
      "Name: sat_score, Length: 67, dtype: float64\n"
     ]
    }
   ],
   "source": [
    "correlations = combined.corr()\n",
    "# Filter to show only correlations of the 'sat_score' column\n",
    "correlations = correlations['sat_score']\n",
    "print(correlations)"
   ]
  },
  {
   "cell_type": "markdown",
   "metadata": {},
   "source": [
    "## Analysis\n",
    "Now that we have that data all in one clean combined DataFrame, we can now investigate to see any correlations such as demographic factors such as race, income, and gender have in relation with SAT Scores. This will help us determine whether the SAT is a fair test. For example, if certain racial groups consistently perform better on the SAT, we would have some evidence that the SAT is unfair.\n",
    "\n",
    "There are several fields in the 'combined' DataFrame that original came from the survey data of parents, teachers and students. We'll make a bar plot to determine if there is any correlation between these fields and SAT Scores. The variable survey_fields has the list of fields we'll investigate. A data dictionary is contained in a school file that is part of the survey data."
   ]
  },
  {
   "cell_type": "code",
   "execution_count": 10,
   "metadata": {},
   "outputs": [
    {
     "data": {
      "text/plain": [
       "<matplotlib.axes._subplots.AxesSubplot at 0x27f1fe8d7b8>"
      ]
     },
     "execution_count": 10,
     "metadata": {},
     "output_type": "execute_result"
    },
    {
     "data": {
      "image/png": "[encoded data removed]",
      "text/plain": [
       "<Figure size 432x288 with 1 Axes>"
      ]
     },
     "metadata": {},
     "output_type": "display_data"
    }
   ],
   "source": [
    "%matplotlib inline\n",
    "\n",
    "# Remove DBN since it's a unique identifier, not a useful numerical value for correlation.\n",
    "survey_fields.remove(\"DBN\")\n",
    "\n",
    "correlations.reindex(survey_fields).plot.bar()"
   ]
  },
  {
   "cell_type": "markdown",
   "metadata": {},
   "source": [
    "In general, r values above .25 or below -.25 are enough to qualify a correlation as interesting. from the bar plot we can see that saf_t_11 and saf_s_11, which measure how teachers and students perceive safety at school, correlated highly with sat_score.\n",
    "\n",
    "Let's investigate further into this relationship, and try to figure out which schools have low safety scores."
   ]
  },
  {
   "cell_type": "code",
   "execution_count": 11,
   "metadata": {},
   "outputs": [
    {
     "data": {
      "text/plain": [
       "<matplotlib.axes._subplots.AxesSubplot at 0x27f1fe39ef0>"
      ]
     },
     "execution_count": 11,
     "metadata": {},
     "output_type": "execute_result"
    },
    {
     "data": {
      "image/png": "[encoded data removed]",
      "text/plain": [
       "<Figure size 432x288 with 1 Axes>"
      ]
     },
     "metadata": {},
     "output_type": "display_data"
    }
   ],
   "source": [
    "combined.plot.scatter(['sat_score'],['saf_s_11'])"
   ]
  },
  {
   "cell_type": "markdown",
   "metadata": {},
   "source": [
    "From looking at the plot, we can see that there is a weak positive correlation between safety and SAT scores. This may imply that students find it easier to study when they don't fear for their safety.\n",
    "\n",
    "Let's generate a basemap of NYC and see which schools have lower safety."
   ]
  },
  {
   "cell_type": "code",
   "execution_count": 12,
   "metadata": {},
   "outputs": [
    {
     "name": "stderr",
     "output_type": "stream",
     "text": [
      "C:\\Users\\toksa\\Anaconda3\\lib\\site-packages\\mpl_toolkits\\basemap\\__init__.py:1708: MatplotlibDeprecationWarning: The axesPatch function was deprecated in version 2.1. Use Axes.patch instead.\n",
      "  limb = ax.axesPatch\n",
      "C:\\Users\\toksa\\Anaconda3\\lib\\site-packages\\mpl_toolkits\\basemap\\__init__.py:1711: MatplotlibDeprecationWarning: The axesPatch function was deprecated in version 2.1. Use Axes.patch instead.\n",
      "  if limb is not ax.axesPatch:\n"
     ]
    },
    {
     "data": {
      "image/png": "[encoded data removed]",
      "text/plain": [
       "<Figure size 432x288 with 1 Axes>"
      ]
     },
     "metadata": {},
     "output_type": "display_data"
    }
   ],
   "source": [
    "import matplotlib.pyplot as plt\n",
    "from mpl_toolkits.basemap import Basemap\n",
    "\n",
    "districts = combined.groupby('school_dist').agg(numpy.mean)\n",
    "districts.reset_index(inplace = True)\n",
    "\n",
    "# This code snippet will create a map that centers on New York City\n",
    "m = Basemap(\n",
    "    projection='merc', \n",
    "    llcrnrlat=40.496044, \n",
    "    urcrnrlat=40.915256, \n",
    "    llcrnrlon=-74.255735, \n",
    "    urcrnrlon=-73.700272,\n",
    "    resolution='i'\n",
    ")\n",
    "\n",
    "m.drawmapboundary(fill_color='#85A6D9')\n",
    "m.drawcoastlines(color='#6D5F47', linewidth=.4)\n",
    "m.drawrivers(color='#6D5F47', linewidth=.4)\n",
    "\n",
    "# converts to list\n",
    "longitudes = districts['lon'].tolist()\n",
    "latitudes = districts['lat'].tolist()\n",
    "\n",
    "# Generate a scatterplot\n",
    "# s = 20 for size of points\n",
    "# zorder = 2 for dots on top of the map\n",
    "# latlon = True to indicate we are putting in latitude/longitude\n",
    "#  We use the summer colormap, which results in green points for low numbers, and yellow points for high numbers.\n",
    "m.scatter(longitudes, latitudes, s = 50, zorder = 2, latlon = True, c = districts['saf_s_11'], cmap = 'summer')\n",
    "\n",
    "plt.show()"
   ]
  },
  {
   "cell_type": "markdown",
   "metadata": {},
   "source": [
    "From viewing the map we just created we can see that the dark green dots are representative of low safety scores. The majority of these low scores are centered around the Brooklyn borough of New York. Brooklyn as a population of over 2.6 million and as of 2016, ~26% of its residents had income below the poverty line in 2016. This may result in increased crime rates which could lead to a percieved lack of safety in schools in this region.\n",
    "\n",
    "There are a few columns that indicate the percentage of each race at a given school:\n",
    "- white_per\n",
    "- asian_per\n",
    "- black_per\n",
    "- hispanic_per\n",
    "\n",
    "By plotting out the correlations between these columns and sat_score, we can determine whether there are any racial differences in SAT performance."
   ]
  },
  {
   "cell_type": "code",
   "execution_count": 13,
   "metadata": {},
   "outputs": [
    {
     "data": {
      "text/plain": [
       "<matplotlib.axes._subplots.AxesSubplot at 0x27f1fe1dda0>"
      ]
     },
     "execution_count": 13,
     "metadata": {},
     "output_type": "execute_result"
    },
    {
     "data": {
      "image/png": "[encoded data removed]",
      "text/plain": [
       "<Figure size 432x288 with 1 Axes>"
      ]
     },
     "metadata": {},
     "output_type": "display_data"
    }
   ],
   "source": [
    "races = [ 'white_per','asian_per','black_per','hispanic_per',]\n",
    "\n",
    "correlations[races].plot.bar()"
   ]
  },
  {
   "cell_type": "markdown",
   "metadata": {},
   "source": [
    "From the bar plot, we see a positive correlation for white and asian individuals when it comes to SAT scores. However, a negative correlation is observed in relation to black/hispanic SAT scores. Let's investigate the hispanic further as it had a greater negative correlation. "
   ]
  },
  {
   "cell_type": "code",
   "execution_count": 14,
   "metadata": {},
   "outputs": [
    {
     "data": {
      "text/plain": [
       "<matplotlib.axes._subplots.AxesSubplot at 0x27f20684748>"
      ]
     },
     "execution_count": 14,
     "metadata": {},
     "output_type": "execute_result"
    },
    {
     "data": {
      "image/png": "[encoded data removed]",
      "text/plain": [
       "<Figure size 432x288 with 1 Axes>"
      ]
     },
     "metadata": {},
     "output_type": "display_data"
    }
   ],
   "source": [
    "combined.plot.scatter(['sat_score'], ['hispanic_per'])"
   ]
  },
  {
   "cell_type": "markdown",
   "metadata": {},
   "source": [
    "From the scatter plot above we can see that schools with a high amount of Hispanic students do poorly in the SATs compared to schools where the Hispanic population is lower. Let's filter the data down to scools with greater than 95% Hispanic students."
   ]
  },
  {
   "cell_type": "code",
   "execution_count": 15,
   "metadata": {},
   "outputs": [
    {
     "data": {
      "text/html": [
       "<div>\n",
       "<style scoped>\n",
       "    .dataframe tbody tr th:only-of-type {\n",
       "        vertical-align: middle;\n",
       "    }\n",
       "\n",
       "    .dataframe tbody tr th {\n",
       "        vertical-align: top;\n",
       "    }\n",
       "\n",
       "    .dataframe thead th {\n",
       "        text-align: right;\n",
       "    }\n",
       "</style>\n",
       "<table border=\"1\" class=\"dataframe\">\n",
       "  <thead>\n",
       "    <tr style=\"text-align: right;\">\n",
       "      <th></th>\n",
       "      <th>DBN</th>\n",
       "      <th>SCHOOL NAME</th>\n",
       "      <th>Num of SAT Test Takers</th>\n",
       "      <th>SAT Critical Reading Avg. Score</th>\n",
       "      <th>SAT Math Avg. Score</th>\n",
       "      <th>SAT Writing Avg. Score</th>\n",
       "      <th>sat_score</th>\n",
       "      <th>SchoolName</th>\n",
       "      <th>AP Test Takers</th>\n",
       "      <th>Total Exams Taken</th>\n",
       "      <th>...</th>\n",
       "      <th>Location 1</th>\n",
       "      <th>Community Board</th>\n",
       "      <th>Council District</th>\n",
       "      <th>Census Tract</th>\n",
       "      <th>BIN</th>\n",
       "      <th>BBL</th>\n",
       "      <th>NTA</th>\n",
       "      <th>lat</th>\n",
       "      <th>lon</th>\n",
       "      <th>school_dist</th>\n",
       "    </tr>\n",
       "  </thead>\n",
       "  <tbody>\n",
       "    <tr>\n",
       "      <th>44</th>\n",
       "      <td>02M542</td>\n",
       "      <td>MANHATTAN BRIDGES HIGH SCHOOL</td>\n",
       "      <td>66</td>\n",
       "      <td>336.0</td>\n",
       "      <td>378.0</td>\n",
       "      <td>344.0</td>\n",
       "      <td>1058.0</td>\n",
       "      <td>Manhattan Bridges High School</td>\n",
       "      <td>67.000000</td>\n",
       "      <td>102.000</td>\n",
       "      <td>...</td>\n",
       "      <td>525 West 50Th Street\\nNew York, NY 10019\\n(40....</td>\n",
       "      <td>4.000000</td>\n",
       "      <td>3.000000</td>\n",
       "      <td>135</td>\n",
       "      <td>1,083,802</td>\n",
       "      <td>1,010,790,029</td>\n",
       "      <td>Clinton                                       ...</td>\n",
       "      <td>40.765027</td>\n",
       "      <td>-73.992517</td>\n",
       "      <td>02</td>\n",
       "    </tr>\n",
       "    <tr>\n",
       "      <th>82</th>\n",
       "      <td>06M348</td>\n",
       "      <td>WASHINGTON HEIGHTS EXPEDITIONARY LEARNING SCHOOL</td>\n",
       "      <td>70</td>\n",
       "      <td>380.0</td>\n",
       "      <td>395.0</td>\n",
       "      <td>399.0</td>\n",
       "      <td>1174.0</td>\n",
       "      <td>0</td>\n",
       "      <td>107.419512</td>\n",
       "      <td>131.425</td>\n",
       "      <td>...</td>\n",
       "      <td>511 West 182Nd Street\\nNew York, NY 10033\\n(40...</td>\n",
       "      <td>12.000000</td>\n",
       "      <td>10.000000</td>\n",
       "      <td>269</td>\n",
       "      <td>1,063,703</td>\n",
       "      <td>1,021,550,035</td>\n",
       "      <td>Washington Heights North                      ...</td>\n",
       "      <td>40.848879</td>\n",
       "      <td>-73.930807</td>\n",
       "      <td>06</td>\n",
       "    </tr>\n",
       "    <tr>\n",
       "      <th>89</th>\n",
       "      <td>06M552</td>\n",
       "      <td>GREGORIO LUPERON HIGH SCHOOL FOR SCIENCE AND M...</td>\n",
       "      <td>56</td>\n",
       "      <td>339.0</td>\n",
       "      <td>349.0</td>\n",
       "      <td>326.0</td>\n",
       "      <td>1014.0</td>\n",
       "      <td>GREGORIO LUPERON HS SCI &amp; MATH</td>\n",
       "      <td>88.000000</td>\n",
       "      <td>138.000</td>\n",
       "      <td>...</td>\n",
       "      <td>501 West 165Th\\nNew York, NY 10032\\n(40.838032...</td>\n",
       "      <td>6.792244</td>\n",
       "      <td>22.238227</td>\n",
       "      <td>0</td>\n",
       "      <td>0</td>\n",
       "      <td>0</td>\n",
       "      <td>0</td>\n",
       "      <td>40.838032</td>\n",
       "      <td>-73.938371</td>\n",
       "      <td>06</td>\n",
       "    </tr>\n",
       "    <tr>\n",
       "      <th>125</th>\n",
       "      <td>09X365</td>\n",
       "      <td>ACADEMY FOR LANGUAGE AND TECHNOLOGY</td>\n",
       "      <td>54</td>\n",
       "      <td>315.0</td>\n",
       "      <td>339.0</td>\n",
       "      <td>297.0</td>\n",
       "      <td>951.0</td>\n",
       "      <td>Academy for Language and Technology</td>\n",
       "      <td>20.000000</td>\n",
       "      <td>20.000</td>\n",
       "      <td>...</td>\n",
       "      <td>1700 Macombs Road\\nBronx, NY 10453\\n(40.849102...</td>\n",
       "      <td>5.000000</td>\n",
       "      <td>14.000000</td>\n",
       "      <td>21,502</td>\n",
       "      <td>2,008,460</td>\n",
       "      <td>2,028,660,070</td>\n",
       "      <td>University Heights-Morris Heights             ...</td>\n",
       "      <td>40.849102</td>\n",
       "      <td>-73.916088</td>\n",
       "      <td>09</td>\n",
       "    </tr>\n",
       "    <tr>\n",
       "      <th>141</th>\n",
       "      <td>10X342</td>\n",
       "      <td>INTERNATIONAL SCHOOL FOR LIBERAL ARTS</td>\n",
       "      <td>49</td>\n",
       "      <td>300.0</td>\n",
       "      <td>333.0</td>\n",
       "      <td>301.0</td>\n",
       "      <td>934.0</td>\n",
       "      <td>International School for Liberal Arts</td>\n",
       "      <td>55.000000</td>\n",
       "      <td>73.000</td>\n",
       "      <td>...</td>\n",
       "      <td>2780 Reservoir Avenue\\nBronx, NY 10468\\n(40.87...</td>\n",
       "      <td>7.000000</td>\n",
       "      <td>11.000000</td>\n",
       "      <td>409</td>\n",
       "      <td>2,015,241</td>\n",
       "      <td>2,032,470,070</td>\n",
       "      <td>Van Cortlandt Village                         ...</td>\n",
       "      <td>40.870377</td>\n",
       "      <td>-73.898163</td>\n",
       "      <td>10</td>\n",
       "    </tr>\n",
       "    <tr>\n",
       "      <th>176</th>\n",
       "      <td>12X388</td>\n",
       "      <td>PAN AMERICAN INTERNATIONAL HIGH SCHOOL AT MONROE</td>\n",
       "      <td>30</td>\n",
       "      <td>321.0</td>\n",
       "      <td>351.0</td>\n",
       "      <td>298.0</td>\n",
       "      <td>970.0</td>\n",
       "      <td>0</td>\n",
       "      <td>107.419512</td>\n",
       "      <td>131.425</td>\n",
       "      <td>...</td>\n",
       "      <td>1300 Boynton Avenue\\nBronx, NY 10472\\n(40.8313...</td>\n",
       "      <td>9.000000</td>\n",
       "      <td>18.000000</td>\n",
       "      <td>56</td>\n",
       "      <td>2,027,459</td>\n",
       "      <td>2,038,640,001</td>\n",
       "      <td>West Farms-Bronx River                        ...</td>\n",
       "      <td>40.831366</td>\n",
       "      <td>-73.878823</td>\n",
       "      <td>12</td>\n",
       "    </tr>\n",
       "    <tr>\n",
       "      <th>253</th>\n",
       "      <td>19K583</td>\n",
       "      <td>MULTICULTURAL HIGH SCHOOL</td>\n",
       "      <td>29</td>\n",
       "      <td>279.0</td>\n",
       "      <td>322.0</td>\n",
       "      <td>286.0</td>\n",
       "      <td>887.0</td>\n",
       "      <td>Multicultural High School</td>\n",
       "      <td>44.000000</td>\n",
       "      <td>44.000</td>\n",
       "      <td>...</td>\n",
       "      <td>999 Jamaica Avenue\\nBrooklyn, NY 11208\\n(40.69...</td>\n",
       "      <td>5.000000</td>\n",
       "      <td>37.000000</td>\n",
       "      <td>1,180</td>\n",
       "      <td>3,090,738</td>\n",
       "      <td>3,040,940,001</td>\n",
       "      <td>park-cemetery-etc-Brooklyn                    ...</td>\n",
       "      <td>40.691144</td>\n",
       "      <td>-73.868426</td>\n",
       "      <td>19</td>\n",
       "    </tr>\n",
       "    <tr>\n",
       "      <th>286</th>\n",
       "      <td>24Q296</td>\n",
       "      <td>PAN AMERICAN INTERNATIONAL HIGH SCHOOL</td>\n",
       "      <td>55</td>\n",
       "      <td>317.0</td>\n",
       "      <td>323.0</td>\n",
       "      <td>311.0</td>\n",
       "      <td>951.0</td>\n",
       "      <td>0</td>\n",
       "      <td>107.419512</td>\n",
       "      <td>131.425</td>\n",
       "      <td>...</td>\n",
       "      <td>45 10 94Th Street\\nElmhurst, NY 11373\\n(40.743...</td>\n",
       "      <td>4.000000</td>\n",
       "      <td>25.000000</td>\n",
       "      <td>463</td>\n",
       "      <td>4,437,166</td>\n",
       "      <td>4,016,000,061</td>\n",
       "      <td>Elmhurst                                      ...</td>\n",
       "      <td>40.743303</td>\n",
       "      <td>-73.870575</td>\n",
       "      <td>24</td>\n",
       "    </tr>\n",
       "  </tbody>\n",
       "</table>\n",
       "<p>8 rows × 165 columns</p>\n",
       "</div>"
      ],
      "text/plain": [
       "        DBN                                        SCHOOL NAME  \\\n",
       "44   02M542                      MANHATTAN BRIDGES HIGH SCHOOL   \n",
       "82   06M348   WASHINGTON HEIGHTS EXPEDITIONARY LEARNING SCHOOL   \n",
       "89   06M552  GREGORIO LUPERON HIGH SCHOOL FOR SCIENCE AND M...   \n",
       "125  09X365                ACADEMY FOR LANGUAGE AND TECHNOLOGY   \n",
       "141  10X342              INTERNATIONAL SCHOOL FOR LIBERAL ARTS   \n",
       "176  12X388   PAN AMERICAN INTERNATIONAL HIGH SCHOOL AT MONROE   \n",
       "253  19K583                          MULTICULTURAL HIGH SCHOOL   \n",
       "286  24Q296             PAN AMERICAN INTERNATIONAL HIGH SCHOOL   \n",
       "\n",
       "    Num of SAT Test Takers  SAT Critical Reading Avg. Score  \\\n",
       "44                      66                            336.0   \n",
       "82                      70                            380.0   \n",
       "89                      56                            339.0   \n",
       "125                     54                            315.0   \n",
       "141                     49                            300.0   \n",
       "176                     30                            321.0   \n",
       "253                     29                            279.0   \n",
       "286                     55                            317.0   \n",
       "\n",
       "     SAT Math Avg. Score  SAT Writing Avg. Score  sat_score  \\\n",
       "44                 378.0                   344.0     1058.0   \n",
       "82                 395.0                   399.0     1174.0   \n",
       "89                 349.0                   326.0     1014.0   \n",
       "125                339.0                   297.0      951.0   \n",
       "141                333.0                   301.0      934.0   \n",
       "176                351.0                   298.0      970.0   \n",
       "253                322.0                   286.0      887.0   \n",
       "286                323.0                   311.0      951.0   \n",
       "\n",
       "                                SchoolName  AP Test Takers   \\\n",
       "44           Manhattan Bridges High School        67.000000   \n",
       "82                                       0       107.419512   \n",
       "89          GREGORIO LUPERON HS SCI & MATH        88.000000   \n",
       "125    Academy for Language and Technology        20.000000   \n",
       "141  International School for Liberal Arts        55.000000   \n",
       "176                                      0       107.419512   \n",
       "253              Multicultural High School        44.000000   \n",
       "286                                      0       107.419512   \n",
       "\n",
       "     Total Exams Taken     ...      \\\n",
       "44             102.000     ...       \n",
       "82             131.425     ...       \n",
       "89             138.000     ...       \n",
       "125             20.000     ...       \n",
       "141             73.000     ...       \n",
       "176            131.425     ...       \n",
       "253             44.000     ...       \n",
       "286            131.425     ...       \n",
       "\n",
       "                                            Location 1 Community Board  \\\n",
       "44   525 West 50Th Street\\nNew York, NY 10019\\n(40....        4.000000   \n",
       "82   511 West 182Nd Street\\nNew York, NY 10033\\n(40...       12.000000   \n",
       "89   501 West 165Th\\nNew York, NY 10032\\n(40.838032...        6.792244   \n",
       "125  1700 Macombs Road\\nBronx, NY 10453\\n(40.849102...        5.000000   \n",
       "141  2780 Reservoir Avenue\\nBronx, NY 10468\\n(40.87...        7.000000   \n",
       "176  1300 Boynton Avenue\\nBronx, NY 10472\\n(40.8313...        9.000000   \n",
       "253  999 Jamaica Avenue\\nBrooklyn, NY 11208\\n(40.69...        5.000000   \n",
       "286  45 10 94Th Street\\nElmhurst, NY 11373\\n(40.743...        4.000000   \n",
       "\n",
       "    Council District Census Tract        BIN            BBL  \\\n",
       "44          3.000000          135  1,083,802  1,010,790,029   \n",
       "82         10.000000          269  1,063,703  1,021,550,035   \n",
       "89         22.238227            0          0              0   \n",
       "125        14.000000       21,502  2,008,460  2,028,660,070   \n",
       "141        11.000000          409  2,015,241  2,032,470,070   \n",
       "176        18.000000           56  2,027,459  2,038,640,001   \n",
       "253        37.000000        1,180  3,090,738  3,040,940,001   \n",
       "286        25.000000          463  4,437,166  4,016,000,061   \n",
       "\n",
       "                                                   NTA        lat        lon  \\\n",
       "44   Clinton                                       ...  40.765027 -73.992517   \n",
       "82   Washington Heights North                      ...  40.848879 -73.930807   \n",
       "89                                                   0  40.838032 -73.938371   \n",
       "125  University Heights-Morris Heights             ...  40.849102 -73.916088   \n",
       "141  Van Cortlandt Village                         ...  40.870377 -73.898163   \n",
       "176  West Farms-Bronx River                        ...  40.831366 -73.878823   \n",
       "253  park-cemetery-etc-Brooklyn                    ...  40.691144 -73.868426   \n",
       "286  Elmhurst                                      ...  40.743303 -73.870575   \n",
       "\n",
       "    school_dist  \n",
       "44           02  \n",
       "82           06  \n",
       "89           06  \n",
       "125          09  \n",
       "141          10  \n",
       "176          12  \n",
       "253          19  \n",
       "286          24  \n",
       "\n",
       "[8 rows x 165 columns]"
      ]
     },
     "execution_count": 15,
     "metadata": {},
     "output_type": "execute_result"
    }
   ],
   "source": [
    "schools_with_hispanic_95 = combined[combined['hispanic_per'] > 95]\n",
    "schools_with_hispanic_95"
   ]
  },
  {
   "cell_type": "markdown",
   "metadata": {},
   "source": [
    "From researching the schools with greater than 95% Hispanic students, it becomes evident that these schools offers immigrants, mostly those from Spanish speaking countries to complete High school. Examples of this are Pan American International High School at Monroe which offers new immigrants, mostly from rural areas of the Dominican Republic, the chance to learn English and complete high school or Washington Heights Expeditionary Learning School, where 98% of its students were either Hispanic and Latino. This may indicate that the majority of these students are ESL students which could explain their poor SAT scores. Now lets investigate schools with low Hispanic student enrollment."
   ]
  },
  {
   "cell_type": "code",
   "execution_count": 16,
   "metadata": {},
   "outputs": [
    {
     "data": {
      "text/html": [
       "<div>\n",
       "<style scoped>\n",
       "    .dataframe tbody tr th:only-of-type {\n",
       "        vertical-align: middle;\n",
       "    }\n",
       "\n",
       "    .dataframe tbody tr th {\n",
       "        vertical-align: top;\n",
       "    }\n",
       "\n",
       "    .dataframe thead th {\n",
       "        text-align: right;\n",
       "    }\n",
       "</style>\n",
       "<table border=\"1\" class=\"dataframe\">\n",
       "  <thead>\n",
       "    <tr style=\"text-align: right;\">\n",
       "      <th></th>\n",
       "      <th>DBN</th>\n",
       "      <th>SCHOOL NAME</th>\n",
       "      <th>Num of SAT Test Takers</th>\n",
       "      <th>SAT Critical Reading Avg. Score</th>\n",
       "      <th>SAT Math Avg. Score</th>\n",
       "      <th>SAT Writing Avg. Score</th>\n",
       "      <th>sat_score</th>\n",
       "      <th>SchoolName</th>\n",
       "      <th>AP Test Takers</th>\n",
       "      <th>Total Exams Taken</th>\n",
       "      <th>...</th>\n",
       "      <th>Location 1</th>\n",
       "      <th>Community Board</th>\n",
       "      <th>Council District</th>\n",
       "      <th>Census Tract</th>\n",
       "      <th>BIN</th>\n",
       "      <th>BBL</th>\n",
       "      <th>NTA</th>\n",
       "      <th>lat</th>\n",
       "      <th>lon</th>\n",
       "      <th>school_dist</th>\n",
       "    </tr>\n",
       "  </thead>\n",
       "  <tbody>\n",
       "    <tr>\n",
       "      <th>37</th>\n",
       "      <td>02M475</td>\n",
       "      <td>STUYVESANT HIGH SCHOOL</td>\n",
       "      <td>832</td>\n",
       "      <td>679.0</td>\n",
       "      <td>735.0</td>\n",
       "      <td>682.0</td>\n",
       "      <td>2096.0</td>\n",
       "      <td>STUYVESANT HS</td>\n",
       "      <td>107.419512</td>\n",
       "      <td>131.425</td>\n",
       "      <td>...</td>\n",
       "      <td>345 Chambers Street\\nNew York, NY 10282\\n(40.7...</td>\n",
       "      <td>1.0</td>\n",
       "      <td>1.0</td>\n",
       "      <td>31,703</td>\n",
       "      <td>1,084,587</td>\n",
       "      <td>1,000,160,215</td>\n",
       "      <td>Battery Park City-Lower Manhattan             ...</td>\n",
       "      <td>40.717746</td>\n",
       "      <td>-74.014049</td>\n",
       "      <td>02</td>\n",
       "    </tr>\n",
       "    <tr>\n",
       "      <th>151</th>\n",
       "      <td>10X445</td>\n",
       "      <td>BRONX HIGH SCHOOL OF SCIENCE</td>\n",
       "      <td>731</td>\n",
       "      <td>632.0</td>\n",
       "      <td>688.0</td>\n",
       "      <td>649.0</td>\n",
       "      <td>1969.0</td>\n",
       "      <td>BRONX HS OF SCIENCE</td>\n",
       "      <td>107.419512</td>\n",
       "      <td>131.425</td>\n",
       "      <td>...</td>\n",
       "      <td>75 West 205 Street\\nBronx, NY 10468\\n(40.87705...</td>\n",
       "      <td>7.0</td>\n",
       "      <td>11.0</td>\n",
       "      <td>409</td>\n",
       "      <td>2,094,706</td>\n",
       "      <td>2,032,510,201</td>\n",
       "      <td>Van Cortlandt Village                         ...</td>\n",
       "      <td>40.877056</td>\n",
       "      <td>-73.889780</td>\n",
       "      <td>10</td>\n",
       "    </tr>\n",
       "    <tr>\n",
       "      <th>187</th>\n",
       "      <td>13K430</td>\n",
       "      <td>BROOKLYN TECHNICAL HIGH SCHOOL</td>\n",
       "      <td>1277</td>\n",
       "      <td>587.0</td>\n",
       "      <td>659.0</td>\n",
       "      <td>587.0</td>\n",
       "      <td>1833.0</td>\n",
       "      <td>BROOKLYN TECHNICAL HS</td>\n",
       "      <td>107.419512</td>\n",
       "      <td>131.425</td>\n",
       "      <td>...</td>\n",
       "      <td>29 Ft Greene Place\\nBrooklyn, NY 11217\\n(40.68...</td>\n",
       "      <td>2.0</td>\n",
       "      <td>35.0</td>\n",
       "      <td>33</td>\n",
       "      <td>3,058,752</td>\n",
       "      <td>3,020,980,013</td>\n",
       "      <td>Fort Greene                                   ...</td>\n",
       "      <td>40.688107</td>\n",
       "      <td>-73.976745</td>\n",
       "      <td>13</td>\n",
       "    </tr>\n",
       "    <tr>\n",
       "      <th>327</th>\n",
       "      <td>28Q687</td>\n",
       "      <td>QUEENS HIGH SCHOOL FOR THE SCIENCES AT YORK CO...</td>\n",
       "      <td>121</td>\n",
       "      <td>612.0</td>\n",
       "      <td>660.0</td>\n",
       "      <td>596.0</td>\n",
       "      <td>1868.0</td>\n",
       "      <td>Queens HS for Science York Colllege</td>\n",
       "      <td>215.000000</td>\n",
       "      <td>338.000</td>\n",
       "      <td>...</td>\n",
       "      <td>94 50 159 Street\\nJamaica, NY 11433\\n(40.70099...</td>\n",
       "      <td>12.0</td>\n",
       "      <td>27.0</td>\n",
       "      <td>246</td>\n",
       "      <td>4,215,611</td>\n",
       "      <td>4,100,990,052</td>\n",
       "      <td>Jamaica                                       ...</td>\n",
       "      <td>40.700999</td>\n",
       "      <td>-73.798154</td>\n",
       "      <td>28</td>\n",
       "    </tr>\n",
       "    <tr>\n",
       "      <th>356</th>\n",
       "      <td>31R605</td>\n",
       "      <td>STATEN ISLAND TECHNICAL HIGH SCHOOL</td>\n",
       "      <td>227</td>\n",
       "      <td>635.0</td>\n",
       "      <td>682.0</td>\n",
       "      <td>636.0</td>\n",
       "      <td>1953.0</td>\n",
       "      <td>STATEN ISLAND TECHNICAL HS</td>\n",
       "      <td>528.000000</td>\n",
       "      <td>905.000</td>\n",
       "      <td>...</td>\n",
       "      <td>485 Clawson Street Staten Island\\nNY 10306\\n(4...</td>\n",
       "      <td>2.0</td>\n",
       "      <td>50.0</td>\n",
       "      <td>134</td>\n",
       "      <td>5,107,621</td>\n",
       "      <td>5,042,440,001</td>\n",
       "      <td>New Dorp-Midland Beach                        ...</td>\n",
       "      <td>40.567913</td>\n",
       "      <td>-74.115362</td>\n",
       "      <td>31</td>\n",
       "    </tr>\n",
       "  </tbody>\n",
       "</table>\n",
       "<p>5 rows × 165 columns</p>\n",
       "</div>"
      ],
      "text/plain": [
       "        DBN                                        SCHOOL NAME  \\\n",
       "37   02M475                             STUYVESANT HIGH SCHOOL   \n",
       "151  10X445                       BRONX HIGH SCHOOL OF SCIENCE   \n",
       "187  13K430                     BROOKLYN TECHNICAL HIGH SCHOOL   \n",
       "327  28Q687  QUEENS HIGH SCHOOL FOR THE SCIENCES AT YORK CO...   \n",
       "356  31R605                STATEN ISLAND TECHNICAL HIGH SCHOOL   \n",
       "\n",
       "    Num of SAT Test Takers  SAT Critical Reading Avg. Score  \\\n",
       "37                     832                            679.0   \n",
       "151                    731                            632.0   \n",
       "187                   1277                            587.0   \n",
       "327                    121                            612.0   \n",
       "356                    227                            635.0   \n",
       "\n",
       "     SAT Math Avg. Score  SAT Writing Avg. Score  sat_score  \\\n",
       "37                 735.0                   682.0     2096.0   \n",
       "151                688.0                   649.0     1969.0   \n",
       "187                659.0                   587.0     1833.0   \n",
       "327                660.0                   596.0     1868.0   \n",
       "356                682.0                   636.0     1953.0   \n",
       "\n",
       "                              SchoolName  AP Test Takers   Total Exams Taken  \\\n",
       "37                         STUYVESANT HS       107.419512            131.425   \n",
       "151                  BRONX HS OF SCIENCE       107.419512            131.425   \n",
       "187                BROOKLYN TECHNICAL HS       107.419512            131.425   \n",
       "327  Queens HS for Science York Colllege       215.000000            338.000   \n",
       "356           STATEN ISLAND TECHNICAL HS       528.000000            905.000   \n",
       "\n",
       "        ...                                             Location 1  \\\n",
       "37      ...      345 Chambers Street\\nNew York, NY 10282\\n(40.7...   \n",
       "151     ...      75 West 205 Street\\nBronx, NY 10468\\n(40.87705...   \n",
       "187     ...      29 Ft Greene Place\\nBrooklyn, NY 11217\\n(40.68...   \n",
       "327     ...      94 50 159 Street\\nJamaica, NY 11433\\n(40.70099...   \n",
       "356     ...      485 Clawson Street Staten Island\\nNY 10306\\n(4...   \n",
       "\n",
       "    Community Board Council District Census Tract        BIN            BBL  \\\n",
       "37              1.0              1.0       31,703  1,084,587  1,000,160,215   \n",
       "151             7.0             11.0          409  2,094,706  2,032,510,201   \n",
       "187             2.0             35.0           33  3,058,752  3,020,980,013   \n",
       "327            12.0             27.0          246  4,215,611  4,100,990,052   \n",
       "356             2.0             50.0          134  5,107,621  5,042,440,001   \n",
       "\n",
       "                                                   NTA        lat        lon  \\\n",
       "37   Battery Park City-Lower Manhattan             ...  40.717746 -74.014049   \n",
       "151  Van Cortlandt Village                         ...  40.877056 -73.889780   \n",
       "187  Fort Greene                                   ...  40.688107 -73.976745   \n",
       "327  Jamaica                                       ...  40.700999 -73.798154   \n",
       "356  New Dorp-Midland Beach                        ...  40.567913 -74.115362   \n",
       "\n",
       "    school_dist  \n",
       "37           02  \n",
       "151          10  \n",
       "187          13  \n",
       "327          28  \n",
       "356          31  \n",
       "\n",
       "[5 rows x 165 columns]"
      ]
     },
     "execution_count": 16,
     "metadata": {},
     "output_type": "execute_result"
    }
   ],
   "source": [
    "schools_with_hispanic_10 = combined[(combined['hispanic_per'] < 10) & (combined['sat_score'] > 1800)]\n",
    "schools_with_hispanic_10"
   ]
  },
  {
   "cell_type": "markdown",
   "metadata": {},
   "source": [
    "The schools were the Hispanic students make up less than 10% of the students and where the average SAT scores are greater than 1800 are elite schools where students face a lot of competition for enrollment. An example of this is Stuyvesant High School, admission to Stuyvesant involves passing the Specialized High Schools Admissions Test. Each year, about 30,000 eighth and ninth-grade students take the three-hour test for admittance to eight of the nine specialised high schools. Around 900 to 950 applicants are accepted to Stuyvesant each year. All the schools mentioned above are all part of the nine specialised high schools in New York.\n",
    "\n",
    "Now lets investigate the correlation between SAT scores and gender."
   ]
  },
  {
   "cell_type": "code",
   "execution_count": 17,
   "metadata": {},
   "outputs": [
    {
     "data": {
      "text/plain": [
       "<matplotlib.axes._subplots.AxesSubplot at 0x27f20762400>"
      ]
     },
     "execution_count": 17,
     "metadata": {},
     "output_type": "execute_result"
    },
    {
     "data": {
      "image/png": "[encoded data removed]",
      "text/plain": [
       "<Figure size 432x288 with 1 Axes>"
      ]
     },
     "metadata": {},
     "output_type": "display_data"
    }
   ],
   "source": [
    "gender = ['male_per', 'female_per']\n",
    "\n",
    "correlations[gender].plot.bar()"
   ]
  },
  {
   "cell_type": "markdown",
   "metadata": {},
   "source": [
    "It seems that there is little to no correlation for both genders, females have a small positive correlation while males have a small negative correlation.\n",
    "\n",
    "Let's investigate schools with high SAT scores and a high number of female students. "
   ]
  },
  {
   "cell_type": "code",
   "execution_count": 18,
   "metadata": {},
   "outputs": [
    {
     "data": {
      "text/plain": [
       "<matplotlib.axes._subplots.AxesSubplot at 0x27f207ae240>"
      ]
     },
     "execution_count": 18,
     "metadata": {},
     "output_type": "execute_result"
    },
    {
     "data": {
      "image/png": "[encoded data removed]",
      "text/plain": [
       "<Figure size 432x288 with 1 Axes>"
      ]
     },
     "metadata": {},
     "output_type": "display_data"
    }
   ],
   "source": [
    "combined.plot.scatter(['sat_score'], ['female_per'])"
   ]
  },
  {
   "cell_type": "markdown",
   "metadata": {},
   "source": [
    "The scater plot doesn't reveal much to us, there is not much correlation between schools with more female students and SAT scores.\n",
    "\n",
    "We can further investigate this by filtering schools with greater than 60% females and higher than 1700 SAT scores"
   ]
  },
  {
   "cell_type": "code",
   "execution_count": 19,
   "metadata": {},
   "outputs": [
    {
     "data": {
      "text/html": [
       "<div>\n",
       "<style scoped>\n",
       "    .dataframe tbody tr th:only-of-type {\n",
       "        vertical-align: middle;\n",
       "    }\n",
       "\n",
       "    .dataframe tbody tr th {\n",
       "        vertical-align: top;\n",
       "    }\n",
       "\n",
       "    .dataframe thead th {\n",
       "        text-align: right;\n",
       "    }\n",
       "</style>\n",
       "<table border=\"1\" class=\"dataframe\">\n",
       "  <thead>\n",
       "    <tr style=\"text-align: right;\">\n",
       "      <th></th>\n",
       "      <th>DBN</th>\n",
       "      <th>SCHOOL NAME</th>\n",
       "      <th>Num of SAT Test Takers</th>\n",
       "      <th>SAT Critical Reading Avg. Score</th>\n",
       "      <th>SAT Math Avg. Score</th>\n",
       "      <th>SAT Writing Avg. Score</th>\n",
       "      <th>sat_score</th>\n",
       "      <th>SchoolName</th>\n",
       "      <th>AP Test Takers</th>\n",
       "      <th>Total Exams Taken</th>\n",
       "      <th>...</th>\n",
       "      <th>Location 1</th>\n",
       "      <th>Community Board</th>\n",
       "      <th>Council District</th>\n",
       "      <th>Census Tract</th>\n",
       "      <th>BIN</th>\n",
       "      <th>BBL</th>\n",
       "      <th>NTA</th>\n",
       "      <th>lat</th>\n",
       "      <th>lon</th>\n",
       "      <th>school_dist</th>\n",
       "    </tr>\n",
       "  </thead>\n",
       "  <tbody>\n",
       "    <tr>\n",
       "      <th>5</th>\n",
       "      <td>01M696</td>\n",
       "      <td>BARD HIGH SCHOOL EARLY COLLEGE</td>\n",
       "      <td>130</td>\n",
       "      <td>624.0</td>\n",
       "      <td>604.0</td>\n",
       "      <td>628.0</td>\n",
       "      <td>1856.0</td>\n",
       "      <td>0</td>\n",
       "      <td>107.419512</td>\n",
       "      <td>131.425</td>\n",
       "      <td>...</td>\n",
       "      <td>525 East Houston Street\\nNew York, NY 10002\\n(...</td>\n",
       "      <td>3.0</td>\n",
       "      <td>2.0</td>\n",
       "      <td>1,002</td>\n",
       "      <td>1,004,062</td>\n",
       "      <td>1,003,250,025</td>\n",
       "      <td>Lower East Side                               ...</td>\n",
       "      <td>40.718962</td>\n",
       "      <td>-73.976066</td>\n",
       "      <td>01</td>\n",
       "    </tr>\n",
       "    <tr>\n",
       "      <th>26</th>\n",
       "      <td>02M416</td>\n",
       "      <td>ELEANOR ROOSEVELT HIGH SCHOOL</td>\n",
       "      <td>127</td>\n",
       "      <td>572.0</td>\n",
       "      <td>594.0</td>\n",
       "      <td>592.0</td>\n",
       "      <td>1758.0</td>\n",
       "      <td>Eleanor Roosevelt High School</td>\n",
       "      <td>155.000000</td>\n",
       "      <td>235.000</td>\n",
       "      <td>...</td>\n",
       "      <td>411 East 76 Street\\nNew York, NY 10021\\n(40.77...</td>\n",
       "      <td>8.0</td>\n",
       "      <td>5.0</td>\n",
       "      <td>132</td>\n",
       "      <td>1,045,949</td>\n",
       "      <td>1,014,710,005</td>\n",
       "      <td>Lenox Hill-Roosevelt Island                   ...</td>\n",
       "      <td>40.770116</td>\n",
       "      <td>-73.953379</td>\n",
       "      <td>02</td>\n",
       "    </tr>\n",
       "    <tr>\n",
       "      <th>60</th>\n",
       "      <td>03M479</td>\n",
       "      <td>BEACON HIGH SCHOOL</td>\n",
       "      <td>261</td>\n",
       "      <td>577.0</td>\n",
       "      <td>575.0</td>\n",
       "      <td>592.0</td>\n",
       "      <td>1744.0</td>\n",
       "      <td>BEACON SCHOOL</td>\n",
       "      <td>166.000000</td>\n",
       "      <td>197.000</td>\n",
       "      <td>...</td>\n",
       "      <td>227 243 West 61St Street\\nNew York, NY 10023\\n...</td>\n",
       "      <td>7.0</td>\n",
       "      <td>6.0</td>\n",
       "      <td>151</td>\n",
       "      <td>1,030,328</td>\n",
       "      <td>1,011,540,108</td>\n",
       "      <td>Lincoln Square                                ...</td>\n",
       "      <td>40.772158</td>\n",
       "      <td>-73.987797</td>\n",
       "      <td>03</td>\n",
       "    </tr>\n",
       "    <tr>\n",
       "      <th>61</th>\n",
       "      <td>03M485</td>\n",
       "      <td>FIORELLO H. LAGUARDIA HIGH SCHOOL OF MUSIC &amp; A...</td>\n",
       "      <td>531</td>\n",
       "      <td>566.0</td>\n",
       "      <td>564.0</td>\n",
       "      <td>577.0</td>\n",
       "      <td>1707.0</td>\n",
       "      <td>FIORELLO H.LAGUARDIA HS</td>\n",
       "      <td>691.000000</td>\n",
       "      <td>131.425</td>\n",
       "      <td>...</td>\n",
       "      <td>100 Amsterdam Avenue\\nNew York, NY 10023\\n(40....</td>\n",
       "      <td>7.0</td>\n",
       "      <td>6.0</td>\n",
       "      <td>151</td>\n",
       "      <td>1,030,341</td>\n",
       "      <td>1,011,560,030</td>\n",
       "      <td>Lincoln Square                                ...</td>\n",
       "      <td>40.773671</td>\n",
       "      <td>-73.985269</td>\n",
       "      <td>03</td>\n",
       "    </tr>\n",
       "    <tr>\n",
       "      <th>302</th>\n",
       "      <td>25Q525</td>\n",
       "      <td>TOWNSEND HARRIS HIGH SCHOOL</td>\n",
       "      <td>278</td>\n",
       "      <td>621.0</td>\n",
       "      <td>651.0</td>\n",
       "      <td>638.0</td>\n",
       "      <td>1910.0</td>\n",
       "      <td>TOWNSEND HARRIS HS</td>\n",
       "      <td>613.000000</td>\n",
       "      <td>796.000</td>\n",
       "      <td>...</td>\n",
       "      <td>149 11 Melbourne Avenue\\nFlushing, NY 11367\\n(...</td>\n",
       "      <td>8.0</td>\n",
       "      <td>24.0</td>\n",
       "      <td>809</td>\n",
       "      <td>4,538,714</td>\n",
       "      <td>4,065,070,200</td>\n",
       "      <td>Kew Gardens Hills                             ...</td>\n",
       "      <td>40.734408</td>\n",
       "      <td>-73.821417</td>\n",
       "      <td>25</td>\n",
       "    </tr>\n",
       "  </tbody>\n",
       "</table>\n",
       "<p>5 rows × 165 columns</p>\n",
       "</div>"
      ],
      "text/plain": [
       "        DBN                                        SCHOOL NAME  \\\n",
       "5    01M696                     BARD HIGH SCHOOL EARLY COLLEGE   \n",
       "26   02M416                      ELEANOR ROOSEVELT HIGH SCHOOL   \n",
       "60   03M479                                 BEACON HIGH SCHOOL   \n",
       "61   03M485  FIORELLO H. LAGUARDIA HIGH SCHOOL OF MUSIC & A...   \n",
       "302  25Q525                        TOWNSEND HARRIS HIGH SCHOOL   \n",
       "\n",
       "    Num of SAT Test Takers  SAT Critical Reading Avg. Score  \\\n",
       "5                      130                            624.0   \n",
       "26                     127                            572.0   \n",
       "60                     261                            577.0   \n",
       "61                     531                            566.0   \n",
       "302                    278                            621.0   \n",
       "\n",
       "     SAT Math Avg. Score  SAT Writing Avg. Score  sat_score  \\\n",
       "5                  604.0                   628.0     1856.0   \n",
       "26                 594.0                   592.0     1758.0   \n",
       "60                 575.0                   592.0     1744.0   \n",
       "61                 564.0                   577.0     1707.0   \n",
       "302                651.0                   638.0     1910.0   \n",
       "\n",
       "                        SchoolName  AP Test Takers   Total Exams Taken  \\\n",
       "5                                0       107.419512            131.425   \n",
       "26   Eleanor Roosevelt High School       155.000000            235.000   \n",
       "60                   BEACON SCHOOL       166.000000            197.000   \n",
       "61         FIORELLO H.LAGUARDIA HS       691.000000            131.425   \n",
       "302             TOWNSEND HARRIS HS       613.000000            796.000   \n",
       "\n",
       "        ...                                             Location 1  \\\n",
       "5       ...      525 East Houston Street\\nNew York, NY 10002\\n(...   \n",
       "26      ...      411 East 76 Street\\nNew York, NY 10021\\n(40.77...   \n",
       "60      ...      227 243 West 61St Street\\nNew York, NY 10023\\n...   \n",
       "61      ...      100 Amsterdam Avenue\\nNew York, NY 10023\\n(40....   \n",
       "302     ...      149 11 Melbourne Avenue\\nFlushing, NY 11367\\n(...   \n",
       "\n",
       "    Community Board Council District Census Tract        BIN            BBL  \\\n",
       "5               3.0              2.0        1,002  1,004,062  1,003,250,025   \n",
       "26              8.0              5.0          132  1,045,949  1,014,710,005   \n",
       "60              7.0              6.0          151  1,030,328  1,011,540,108   \n",
       "61              7.0              6.0          151  1,030,341  1,011,560,030   \n",
       "302             8.0             24.0          809  4,538,714  4,065,070,200   \n",
       "\n",
       "                                                   NTA        lat        lon  \\\n",
       "5    Lower East Side                               ...  40.718962 -73.976066   \n",
       "26   Lenox Hill-Roosevelt Island                   ...  40.770116 -73.953379   \n",
       "60   Lincoln Square                                ...  40.772158 -73.987797   \n",
       "61   Lincoln Square                                ...  40.773671 -73.985269   \n",
       "302  Kew Gardens Hills                             ...  40.734408 -73.821417   \n",
       "\n",
       "    school_dist  \n",
       "5            01  \n",
       "26           02  \n",
       "60           03  \n",
       "61           03  \n",
       "302          25  \n",
       "\n",
       "[5 rows x 165 columns]"
      ]
     },
     "execution_count": 19,
     "metadata": {},
     "output_type": "execute_result"
    }
   ],
   "source": [
    "schools_with_females_60 = combined[(combined['female_per'] > 60) & (combined['sat_score'] > 1700)]\n",
    "schools_with_females_60"
   ]
  },
  {
   "cell_type": "markdown",
   "metadata": {},
   "source": [
    "From researching the schools in the dataframe above we can see that some of these schools are some of the best in New York City. Fiorello H Laguardia High School is ranked 26th, Townsend Harris High School is ranked 7th and Eleanor Roosevelt High School is ranked 19th in NYC for 2018. These are some of the tops schools in New York and it is understandable the SAT scores are high as they have the ability to attract some of the best students.\n",
    "\n",
    "In the U.S., high school students take Advanced Placement (AP) exams to earn college credit. There are AP exams for many different subjects. It would make sense that the number of students at a school who took AP exams would be highly correlated with the school's SAT scores. To examine this relationship we will look at the percentage of students in each school who took at least one AP exam."
   ]
  },
  {
   "cell_type": "code",
   "execution_count": 20,
   "metadata": {},
   "outputs": [
    {
     "data": {
      "text/plain": [
       "<matplotlib.axes._subplots.AxesSubplot at 0x27f20803ba8>"
      ]
     },
     "execution_count": 20,
     "metadata": {},
     "output_type": "execute_result"
    },
    {
     "data": {
      "image/png": "[encoded data removed]",
      "text/plain": [
       "<Figure size 432x288 with 1 Axes>"
      ]
     },
     "metadata": {},
     "output_type": "display_data"
    }
   ],
   "source": [
    "combined['ap_per'] = combined['AP Test Takers ']/combined['total_enrollment']\n",
    "\n",
    "combined.plot.scatter(['ap_per'],['sat_score'])"
   ]
  },
  {
   "cell_type": "markdown",
   "metadata": {},
   "source": [
    "From examining the plot, it doesn't seem that there is much correlation between the percentage of AP test takers and SAT scores. This might be because there are AP exams are for many different subjects while the SAT's are focused around a reading test, writing & language test and a mathematics test. Also on most AP tests, you can still earn a 5 if you get a fair amount of questions wrong, whereas there’s almost no room for error on SAT tests if you want a perfect score."
   ]
  }
 ],
 "metadata": {
  "kernelspec": {
   "display_name": "Python 3",
   "language": "python",
   "name": "python3"
  },
  "language_info": {
   "codemirror_mode": {
    "name": "ipython",
    "version": 3
   },
   "file_extension": ".py",
   "mimetype": "text/x-python",
   "name": "python",
   "nbconvert_exporter": "python",
   "pygments_lexer": "ipython3",
   "version": "3.6.5"
  }
 },
 "nbformat": 4,
 "nbformat_minor": 2
}
