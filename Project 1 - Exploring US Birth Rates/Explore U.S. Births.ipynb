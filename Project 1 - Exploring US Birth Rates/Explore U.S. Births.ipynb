{
 "cells": [
  {
   "cell_type": "markdown",
   "metadata": {},
   "source": [
    "In this project, we will look at the number of births in the United States in the file \"US_births_1994-2003_CDC_NCHS.csv\". This file represents the births from 1994 to 2003. First, we will use basic functions in python to convert the file into a readable format and then explore the data."
   ]
  },
  {
   "cell_type": "code",
   "execution_count": 2,
   "metadata": {},
   "outputs": [
    {
     "data": {
      "text/plain": [
       "'year,month,date_of_month,day_of_week,births\\n1994,1,1,6,8096\\n1994,1,2,7,7772\\n1994,1,3,1,10142\\n1994,1,'"
      ]
     },
     "execution_count": 2,
     "metadata": {},
     "output_type": "execute_result"
    }
   ],
   "source": [
    "# Open the file and read it.\n",
    "f = open('US_births_1994-2003_CDC_NCHS.csv','r')\n",
    "text = f.read()\n",
    "\n",
    "# Print 1st 100 characters.\n",
    "text[0:100]"
   ]
  },
  {
   "cell_type": "markdown",
   "metadata": {},
   "source": [
    "From printing the text we can see that the data is seperated by '\\n'. To seperate each item in the data set by '\\n' we will create a new varaible called text_list. "
   ]
  },
  {
   "cell_type": "code",
   "execution_count": 3,
   "metadata": {},
   "outputs": [
    {
     "data": {
      "text/plain": [
       "['year,month,date_of_month,day_of_week,births',\n",
       " '1994,1,1,6,8096',\n",
       " '1994,1,2,7,7772',\n",
       " '1994,1,3,1,10142',\n",
       " '1994,1,4,2,11248',\n",
       " '1994,1,5,3,11053',\n",
       " '1994,1,6,4,11406',\n",
       " '1994,1,7,5,11251',\n",
       " '1994,1,8,6,8653',\n",
       " '1994,1,9,7,7910']"
      ]
     },
     "execution_count": 3,
     "metadata": {},
     "output_type": "execute_result"
    }
   ],
   "source": [
    "# Use built in .split() function in Python to seperate each item by \\n\n",
    "text_list = text.split('\\n')\n",
    "text_list[0:10]"
   ]
  },
  {
   "cell_type": "markdown",
   "metadata": {},
   "source": [
    "This data set contains information on the year, month, day of the month, day of the week and births. We want to break down the list we currently have even further so we will have a seperate list for year, month, day of the month, day of the week and births. This will be achieved by making a list of lists.\n",
    "\n",
    "We also want to write a generic function that can convert any csv file we put in into this format to reduce the repetive code we may need to write. "
   ]
  },
  {
   "cell_type": "code",
   "execution_count": 4,
   "metadata": {},
   "outputs": [],
   "source": [
    "# The argument 'input_csv' in this case will refer to the csv file\n",
    "def read_csv(input_csv):\n",
    "    f = open(input_csv,'r')\n",
    "    text = f.read()\n",
    "    text_list = text.split('\\n')\n",
    "    # Remove the headers\n",
    "    text_list = text_list[1:]\n",
    "    \n",
    "    final_list = []\n",
    "   \n",
    "    # Split each list element by ',' and append to final list\n",
    "    for line in text_list:\n",
    "        \n",
    "        text_fields = line.split(',')\n",
    "        int_fields = []\n",
    "        \n",
    "        # Converts each string to and integer to make it easier to work with\n",
    "        for item in text_fields:\n",
    "            int_fields.append(int(item))\n",
    "        \n",
    "        final_list.append(int_fields)\n",
    "            \n",
    "    return final_list"
   ]
  },
  {
   "cell_type": "code",
   "execution_count": 5,
   "metadata": {},
   "outputs": [
    {
     "data": {
      "text/plain": [
       "[[1994, 1, 1, 6, 8096],\n",
       " [1994, 1, 2, 7, 7772],\n",
       " [1994, 1, 3, 1, 10142],\n",
       " [1994, 1, 4, 2, 11248],\n",
       " [1994, 1, 5, 3, 11053],\n",
       " [1994, 1, 6, 4, 11406],\n",
       " [1994, 1, 7, 5, 11251],\n",
       " [1994, 1, 8, 6, 8653],\n",
       " [1994, 1, 9, 7, 7910],\n",
       " [1994, 1, 10, 1, 10498]]"
      ]
     },
     "execution_count": 5,
     "metadata": {},
     "output_type": "execute_result"
    }
   ],
   "source": [
    "cdc_list = read_csv('US_births_1994-2003_CDC_NCHS.csv')\n",
    "cdc_list[0:10]"
   ]
  },
  {
   "cell_type": "markdown",
   "metadata": {},
   "source": [
    "Now that the data set has been converted to a more usable format, we can start to analyse it. Let's say we work for a company that produces baby products. They want to know the amount of births per month so they can either increase or decrease the production line for a given month."
   ]
  },
  {
   "cell_type": "code",
   "execution_count": 6,
   "metadata": {},
   "outputs": [],
   "source": [
    "# 'data' refers to the cdc_list\n",
    "def month_births(data):\n",
    "    \n",
    "    births_per_month = {}\n",
    "    # Loop through list of lists\n",
    "    for item in data:\n",
    "        # The month is the 2nd list and the births is the last list on this list of lists\n",
    "        month = item[1]\n",
    "        birth = item[4]\n",
    "        \n",
    "        # Add the number of births to the current value, if the key exists in the dictionary.\n",
    "        if month in births_per_month:\n",
    "            births_per_month[month] += birth\n",
    "        # Set the key equal to the value, if the key doesn't exist in the dictionary. \n",
    "        else:\n",
    "            births_per_month[month] = birth\n",
    "            \n",
    "    return births_per_month"
   ]
  },
  {
   "cell_type": "code",
   "execution_count": 7,
   "metadata": {},
   "outputs": [
    {
     "data": {
      "text/plain": [
       "{1: 3232517,\n",
       " 2: 3018140,\n",
       " 3: 3322069,\n",
       " 4: 3185314,\n",
       " 5: 3350907,\n",
       " 6: 3296530,\n",
       " 7: 3498783,\n",
       " 8: 3525858,\n",
       " 9: 3439698,\n",
       " 10: 3378814,\n",
       " 11: 3171647,\n",
       " 12: 3301860}"
      ]
     },
     "execution_count": 7,
     "metadata": {},
     "output_type": "execute_result"
    }
   ],
   "source": [
    "# The result is a dictionary with the month as the key and the number of births as values.\n",
    "cdc_month_births = month_births(cdc_list)\n",
    "cdc_month_births"
   ]
  },
  {
   "cell_type": "markdown",
   "metadata": {},
   "source": [
    "From looking at the results, we can see that August ends up being the month with the most births.\n",
    "\n",
    "Let's repeat the process of what we just did above for the day of the week instead of month. We'll write a function that takes in the list of lists as an argument and generate a dictionary with day of the week as the key and number of births as the value. This will give us a count of the total number of births from the data set for each day of the week."
   ]
  },
  {
   "cell_type": "code",
   "execution_count": 8,
   "metadata": {},
   "outputs": [],
   "source": [
    "def dow_births(data):\n",
    "    \n",
    "    births_per_day = {}\n",
    "    \n",
    "    for item in data:\n",
    "        day = item[3]\n",
    "        birth = item[4]\n",
    "        \n",
    "        if day in births_per_day:\n",
    "            births_per_day[day] += birth\n",
    "        else:\n",
    "            births_per_day[day] = birth\n",
    "    \n",
    "    return births_per_day         "
   ]
  },
  {
   "cell_type": "code",
   "execution_count": 9,
   "metadata": {},
   "outputs": [
    {
     "data": {
      "text/plain": [
       "{6: 4562111,\n",
       " 7: 4079723,\n",
       " 1: 5789166,\n",
       " 2: 6446196,\n",
       " 3: 6322855,\n",
       " 4: 6288429,\n",
       " 5: 6233657}"
      ]
     },
     "execution_count": 9,
     "metadata": {},
     "output_type": "execute_result"
    }
   ],
   "source": [
    "cdc_day_births = dow_births(cdc_list)\n",
    "cdc_day_births"
   ]
  },
  {
   "cell_type": "markdown",
   "metadata": {},
   "source": [
    "In this dataset, Monday is the first day of the week. So from looking at the code above we can see that Tuesday has the highest total amont of births for this dataset.\n",
    "\n",
    "Let's write a more generic function that will take in two arguments, the data and the column index. A column index of 0 refers to the year column, an index of 1 refers to the month column and so on. \n",
    "\n",
    "By creating this generic function we can quickly generate a dictionary of all the birth counts."
   ]
  },
  {
   "cell_type": "code",
   "execution_count": 10,
   "metadata": {},
   "outputs": [],
   "source": [
    "# data = cdc list; column = column index we want to calcuate total births for\n",
    "def cal_counts(data,column):\n",
    "    \n",
    "    number_of_births = {}\n",
    "    \n",
    "    for item in data:\n",
    "        birth = item[4]\n",
    "        line = item[column]\n",
    "        \n",
    "        if line in number_of_births:\n",
    "            number_of_births[line] += birth\n",
    "        else:\n",
    "            number_of_births[line] = birth\n",
    "    \n",
    "    return number_of_births"
   ]
  },
  {
   "cell_type": "code",
   "execution_count": 11,
   "metadata": {},
   "outputs": [
    {
     "data": {
      "text/plain": [
       "{1994: 3952767,\n",
       " 1995: 3899589,\n",
       " 1996: 3891494,\n",
       " 1997: 3880894,\n",
       " 1998: 3941553,\n",
       " 1999: 3959417,\n",
       " 2000: 4058814,\n",
       " 2001: 4025933,\n",
       " 2002: 4021726,\n",
       " 2003: 4089950}"
      ]
     },
     "execution_count": 11,
     "metadata": {},
     "output_type": "execute_result"
    }
   ],
   "source": [
    "# The result is a dictionary with the year as the key and the number of births as values.\n",
    "cdc_year_births = cal_counts(cdc_list,0)\n",
    "cdc_year_births"
   ]
  },
  {
   "cell_type": "markdown",
   "metadata": {},
   "source": [
    "from glancing at the results, it shows that the total births in the US grew from 1994 to 2003.\n",
    "\n",
    "We'll use the same function again to look at the total number of births in each day of the month"
   ]
  },
  {
   "cell_type": "code",
   "execution_count": 12,
   "metadata": {},
   "outputs": [
    {
     "data": {
      "text/plain": [
       "{1: 1276557,\n",
       " 2: 1288739,\n",
       " 3: 1304499,\n",
       " 4: 1288154,\n",
       " 5: 1299953,\n",
       " 6: 1304474,\n",
       " 7: 1310459,\n",
       " 8: 1312297,\n",
       " 9: 1303292,\n",
       " 10: 1320764,\n",
       " 11: 1314361,\n",
       " 12: 1318437,\n",
       " 13: 1277684,\n",
       " 14: 1320153,\n",
       " 15: 1319171,\n",
       " 16: 1315192,\n",
       " 17: 1324953,\n",
       " 18: 1326855,\n",
       " 19: 1318727,\n",
       " 20: 1324821,\n",
       " 21: 1322897,\n",
       " 22: 1317381,\n",
       " 23: 1293290,\n",
       " 24: 1288083,\n",
       " 25: 1272116,\n",
       " 26: 1284796,\n",
       " 27: 1294395,\n",
       " 28: 1307685,\n",
       " 29: 1223161,\n",
       " 30: 1202095,\n",
       " 31: 746696}"
      ]
     },
     "execution_count": 12,
     "metadata": {},
     "output_type": "execute_result"
    }
   ],
   "source": [
    "# dom = date of the month\n",
    "cdc_dom_births = cal_counts(cdc_list, 2)\n",
    "cdc_dom_births"
   ]
  },
  {
   "cell_type": "markdown",
   "metadata": {},
   "source": [
    "From this result, we can see that there is significantly less births on the 31st day of the month. This is most likely due to the fact that not every month has 31 days in it."
   ]
  },
  {
   "cell_type": "markdown",
   "metadata": {},
   "source": [
    "Now lets's write a function that can calculate the min and max values for any dictionary that is passed in to quickly get an idea of these values for births for each of our dictionaries."
   ]
  },
  {
   "cell_type": "code",
   "execution_count": 13,
   "metadata": {},
   "outputs": [
    {
     "data": {
      "text/plain": [
       "(3525858, 3018140)"
      ]
     },
     "execution_count": 13,
     "metadata": {},
     "output_type": "execute_result"
    }
   ],
   "source": [
    "def calc_min_max(dictionary):\n",
    "    #The method items() returns a list of dictionaries (key, value) tuple pairs\n",
    "    rowmax = dictionary.values()\n",
    "    # max function return the largest item in an iterable or the largest of two or more arguments.\n",
    "    maximum = max(rowmax)\n",
    "    \n",
    "    rowmin = dictionary.values()\n",
    "    minimum = min(rowmin)\n",
    "    \n",
    "    return maximum, minimum\n",
    "\n",
    "# Used the births per month as the argument to see if the function was accurate\n",
    "max_min_months = calc_min_max(cdc_month_births)\n",
    "max_min_months"
   ]
  },
  {
   "cell_type": "markdown",
   "metadata": {},
   "source": [
    "From the investigation we can see that August has the most births and February has the least."
   ]
  },
  {
   "cell_type": "markdown",
   "metadata": {},
   "source": [
    "We'll now combine the CDC data with the SSA data, which is part of this repository. We're going to find a way to deal with the overlapping time periods in the datasets."
   ]
  },
  {
   "cell_type": "code",
   "execution_count": 14,
   "metadata": {},
   "outputs": [
    {
     "data": {
      "text/plain": [
       "[[2000, 1, 1, 6, 9083],\n",
       " [2000, 1, 2, 7, 8006],\n",
       " [2000, 1, 3, 1, 11363],\n",
       " [2000, 1, 4, 2, 13032],\n",
       " [2000, 1, 5, 3, 12558]]"
      ]
     },
     "execution_count": 14,
     "metadata": {},
     "output_type": "execute_result"
    }
   ],
   "source": [
    "ssa_list = read_csv('US_births_2000-2014_SSA.csv')\n",
    "ssa_list[:5]"
   ]
  },
  {
   "cell_type": "code",
   "execution_count": 15,
   "metadata": {},
   "outputs": [
    {
     "name": "stdout",
     "output_type": "stream",
     "text": [
      "2191\n"
     ]
    }
   ],
   "source": [
    "# Overlapping data is from 2000 - 2003\n",
    "for row in cdc_list:\n",
    "    if row[0] == 2000:\n",
    "        print(cdc_list.index(row))\n",
    "        # break terminates nearest enclosing loop\n",
    "        break"
   ]
  },
  {
   "cell_type": "code",
   "execution_count": 16,
   "metadata": {},
   "outputs": [
    {
     "name": "stdout",
     "output_type": "stream",
     "text": [
      "[2000, 1, 1, 6, 8843]\n",
      "[2003, 12, 31, 3, 12374]\n"
     ]
    }
   ],
   "source": [
    "# Now we have the overlapping data for cdc_list\n",
    "overlap_cdc = cdc_list[2191 :]\n",
    "print(overlap_cdc[0])\n",
    "print(overlap_cdc[-1])"
   ]
  },
  {
   "cell_type": "code",
   "execution_count": 17,
   "metadata": {},
   "outputs": [
    {
     "name": "stdout",
     "output_type": "stream",
     "text": [
      "1461\n"
     ]
    }
   ],
   "source": [
    "# Get overlapping data for ssa_list\n",
    "for row in ssa_list:\n",
    "    if row[0] == 2004:\n",
    "        print(ssa_list.index(row))\n",
    "        break"
   ]
  },
  {
   "cell_type": "code",
   "execution_count": 18,
   "metadata": {},
   "outputs": [
    {
     "name": "stdout",
     "output_type": "stream",
     "text": [
      "[2000, 1, 1, 6, 9083]\n",
      "[2003, 12, 31, 3, 12540]\n"
     ]
    }
   ],
   "source": [
    "overlap_ssa = ssa_list[: 1461]\n",
    "print(overlap_ssa[0])\n",
    "print(overlap_ssa[-1])"
   ]
  },
  {
   "cell_type": "code",
   "execution_count": 19,
   "metadata": {},
   "outputs": [
    {
     "data": {
      "text/plain": [
       "[8963, 7911, 11243, 12867, 12399]"
      ]
     },
     "execution_count": 19,
     "metadata": {},
     "output_type": "execute_result"
    }
   ],
   "source": [
    "cdc_ssa_birth = []\n",
    "for i, cdc in enumerate(overlap_cdc):\n",
    "    # Get mean of cdc_list and ssa_list from 2000 to 2003\n",
    "    births = (cdc[4] + overlap_ssa[i][4]) // 2\n",
    "    cdc_ssa_birth.append(births)\n",
    "\n",
    "# Mean births of cdc and ssa lists from 2000 to 2003\n",
    "cdc_ssa_birth[0:5]"
   ]
  },
  {
   "cell_type": "code",
   "execution_count": 20,
   "metadata": {},
   "outputs": [
    {
     "name": "stdout",
     "output_type": "stream",
     "text": [
      "[[2000, 1, 1, 6, 8963], [2000, 1, 2, 7, 7911], [2000, 1, 3, 1, 11243], [2000, 1, 4, 2, 12867], [2000, 1, 5, 3, 12399], [2000, 1, 6, 4, 12363], [2000, 1, 7, 5, 12398], [2000, 1, 8, 6, 8842], [2000, 1, 9, 7, 7842], [2000, 1, 10, 1, 11543]]\n"
     ]
    }
   ],
   "source": [
    "combined = overlap_cdc\n",
    "\n",
    "for i, row in enumerate(combined):\n",
    "    row[4] = cdc_ssa_birth[i]\n",
    "    \n",
    "# Now we have the average births for the cdc_list and ssa_list in the overlapping data\n",
    "print(combined[:10])"
   ]
  },
  {
   "cell_type": "code",
   "execution_count": 24,
   "metadata": {},
   "outputs": [
    {
     "name": "stdout",
     "output_type": "stream",
     "text": [
      "7670\n",
      "[1994, 1, 1, 6, 8096]\n",
      "[2014, 12, 31, 3, 11990]\n"
     ]
    }
   ],
   "source": [
    "# Now we will merge the lists together\n",
    "merged_list = []\n",
    "\n",
    "merged_list.extend(cdc_list[:2191])\n",
    "merged_list.extend(combined)\n",
    "merged_list.extend(ssa_list[1461:])\n",
    "\n",
    "print(len(merged_list))\n",
    "print(merged_list[0])\n",
    "print(merged_list[-1])"
   ]
  },
  {
   "cell_type": "markdown",
   "metadata": {},
   "source": [
    "The variable merged_list now contains that from the cdc_list and the ssa_list. The overlapping data was determined to be from 2000 - 2003. This was dealt with by getting the average births of the cdc_list and ssa_list from the years of 2000 - 2003. We can now perform analysis with this data."
   ]
  }
 ],
 "metadata": {
  "kernelspec": {
   "display_name": "Python 3",
   "language": "python",
   "name": "python3"
  },
  "language_info": {
   "codemirror_mode": {
    "name": "ipython",
    "version": 3
   },
   "file_extension": ".py",
   "mimetype": "text/x-python",
   "name": "python",
   "nbconvert_exporter": "python",
   "pygments_lexer": "ipython3",
   "version": "3.6.5"
  }
 },
 "nbformat": 4,
 "nbformat_minor": 2
}
