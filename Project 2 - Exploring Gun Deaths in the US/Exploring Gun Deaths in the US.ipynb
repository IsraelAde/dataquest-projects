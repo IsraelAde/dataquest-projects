{
 "cells": [
  {
   "cell_type": "markdown",
   "metadata": {},
   "source": [
    "In this project we will look at the total number of gun deaths by race in the US from 2012 to 2014 using the data set 'guns.csv'. Additionally we will also use the US census, found in the data set 'census.csv', to convert the total number of gun deaths to a 'rate of 100K people' to show the impact of the results."
   ]
  },
  {
   "cell_type": "code",
   "execution_count": 1,
   "metadata": {},
   "outputs": [
    {
     "name": "stdout",
     "output_type": "stream",
     "text": [
      "[['', 'year', 'month', 'intent', 'police', 'sex', 'age', 'race', 'hispanic', 'place', 'education'], ['1', '2012', '01', 'Suicide', '0', 'M', '34', 'Asian/Pacific Islander', '100', 'Home', '4'], ['2', '2012', '01', 'Suicide', '0', 'F', '21', 'White', '100', 'Street', '3'], ['3', '2012', '01', 'Suicide', '0', 'M', '60', 'White', '100', 'Other specified', '4'], ['4', '2012', '02', 'Suicide', '0', 'M', '64', 'White', '100', 'Home', '4']]\n"
     ]
    }
   ],
   "source": [
    "# Open csv file and convert to a list of lists\n",
    "import csv\n",
    "f = open('guns.csv')\n",
    "csvreader = csv.reader(f)\n",
    "data = list(csvreader)\n",
    "\n",
    "print(data[:5])"
   ]
  },
  {
   "cell_type": "code",
   "execution_count": 2,
   "metadata": {},
   "outputs": [
    {
     "name": "stdout",
     "output_type": "stream",
     "text": [
      "[['1', '2012', '01', 'Suicide', '0', 'M', '34', 'Asian/Pacific Islander', '100', 'Home', '4'], ['2', '2012', '01', 'Suicide', '0', 'F', '21', 'White', '100', 'Street', '3'], ['3', '2012', '01', 'Suicide', '0', 'M', '60', 'White', '100', 'Other specified', '4'], ['4', '2012', '02', 'Suicide', '0', 'M', '64', 'White', '100', 'Home', '4'], ['5', '2012', '02', 'Suicide', '0', 'M', '31', 'White', '100', 'Other specified', '2']]\n"
     ]
    }
   ],
   "source": [
    "# Remove the header from the data set using slicing techniques\n",
    "header = data[0]\n",
    "data = data[1:]\n",
    "print(data[:5])"
   ]
  },
  {
   "cell_type": "markdown",
   "metadata": {},
   "source": [
    "Now that the data is in a more usable format, we can start to analyse it. The first column in the data set is the ID column as it increases by 1 for each list entry. \n",
    "\n",
    "Let's say we work for the US government and we want to see the effect that guns have on the country by investigating the total number of deaths each year. We can perform this by creating a dictionary, then keeping a count in the dictionary of how many times a gun related death occurs in the year column."
   ]
  },
  {
   "cell_type": "code",
   "execution_count": 3,
   "metadata": {},
   "outputs": [
    {
     "data": {
      "text/plain": [
       "{'2012': 33563, '2013': 33636, '2014': 33599}"
      ]
     },
     "execution_count": 3,
     "metadata": {},
     "output_type": "execute_result"
    }
   ],
   "source": [
    "# Use a list comprehension instead of a for loop to condense the amount of code we need to write\n",
    "years = [line[1] for line in data]\n",
    "\n",
    "year_counts = {}\n",
    "# Create a for loop to create a counter to populate the dictionary\n",
    "for year in years:\n",
    "    if year in year_counts:\n",
    "        year_counts[year] += 1\n",
    "    else:\n",
    "        year_counts[year] = 1\n",
    "\n",
    "year_counts"
   ]
  },
  {
   "cell_type": "markdown",
   "metadata": {},
   "source": [
    "From the initial investigation it can be noted that the amount of deaths related to firearms were relatively close from the years 2012 to 2014.\n",
    "\n",
    "We can investigate further to see the gun deaths for each month of each year."
   ]
  },
  {
   "cell_type": "code",
   "execution_count": 4,
   "metadata": {},
   "outputs": [
    {
     "data": {
      "text/plain": [
       "[datetime.datetime(2012, 1, 1, 0, 0),\n",
       " datetime.datetime(2012, 1, 1, 0, 0),\n",
       " datetime.datetime(2012, 1, 1, 0, 0),\n",
       " datetime.datetime(2012, 2, 1, 0, 0),\n",
       " datetime.datetime(2012, 2, 1, 0, 0)]"
      ]
     },
     "execution_count": 4,
     "metadata": {},
     "output_type": "execute_result"
    }
   ],
   "source": [
    "# Import the datetime module\n",
    "import datetime\n",
    "\n",
    "# Use a list comprehension to shorten code\n",
    "# The datetime module contains a class also named datetime that represents points in time.\n",
    "# The day is not specified in the data, this will be assigned a value of 1\n",
    "dates = [datetime.datetime(year = int(line[1]), month = int(line[2]), day = 1) for line in data]\n",
    "\n",
    "dates[:5]"
   ]
  },
  {
   "cell_type": "code",
   "execution_count": 5,
   "metadata": {},
   "outputs": [
    {
     "data": {
      "text/plain": [
       "{datetime.datetime(2012, 1, 1, 0, 0): 2758,\n",
       " datetime.datetime(2012, 2, 1, 0, 0): 2357,\n",
       " datetime.datetime(2012, 3, 1, 0, 0): 2743,\n",
       " datetime.datetime(2012, 4, 1, 0, 0): 2795,\n",
       " datetime.datetime(2012, 5, 1, 0, 0): 2999,\n",
       " datetime.datetime(2012, 6, 1, 0, 0): 2826,\n",
       " datetime.datetime(2012, 7, 1, 0, 0): 3026,\n",
       " datetime.datetime(2012, 8, 1, 0, 0): 2954,\n",
       " datetime.datetime(2012, 9, 1, 0, 0): 2852,\n",
       " datetime.datetime(2012, 10, 1, 0, 0): 2733,\n",
       " datetime.datetime(2012, 11, 1, 0, 0): 2729,\n",
       " datetime.datetime(2012, 12, 1, 0, 0): 2791,\n",
       " datetime.datetime(2013, 1, 1, 0, 0): 2864,\n",
       " datetime.datetime(2013, 2, 1, 0, 0): 2375,\n",
       " datetime.datetime(2013, 3, 1, 0, 0): 2862,\n",
       " datetime.datetime(2013, 4, 1, 0, 0): 2798,\n",
       " datetime.datetime(2013, 5, 1, 0, 0): 2806,\n",
       " datetime.datetime(2013, 6, 1, 0, 0): 2920,\n",
       " datetime.datetime(2013, 7, 1, 0, 0): 3079,\n",
       " datetime.datetime(2013, 8, 1, 0, 0): 2859,\n",
       " datetime.datetime(2013, 9, 1, 0, 0): 2742,\n",
       " datetime.datetime(2013, 10, 1, 0, 0): 2808,\n",
       " datetime.datetime(2013, 11, 1, 0, 0): 2758,\n",
       " datetime.datetime(2013, 12, 1, 0, 0): 2765,\n",
       " datetime.datetime(2014, 1, 1, 0, 0): 2651,\n",
       " datetime.datetime(2014, 2, 1, 0, 0): 2361,\n",
       " datetime.datetime(2014, 3, 1, 0, 0): 2684,\n",
       " datetime.datetime(2014, 4, 1, 0, 0): 2862,\n",
       " datetime.datetime(2014, 5, 1, 0, 0): 2864,\n",
       " datetime.datetime(2014, 6, 1, 0, 0): 2931,\n",
       " datetime.datetime(2014, 7, 1, 0, 0): 2884,\n",
       " datetime.datetime(2014, 8, 1, 0, 0): 2970,\n",
       " datetime.datetime(2014, 9, 1, 0, 0): 2914,\n",
       " datetime.datetime(2014, 10, 1, 0, 0): 2865,\n",
       " datetime.datetime(2014, 11, 1, 0, 0): 2756,\n",
       " datetime.datetime(2014, 12, 1, 0, 0): 2857}"
      ]
     },
     "execution_count": 5,
     "metadata": {},
     "output_type": "execute_result"
    }
   ],
   "source": [
    "date_counts = {}\n",
    "\n",
    "for date in dates:\n",
    "    if date in date_counts:\n",
    "        date_counts[date] += 1\n",
    "    else:\n",
    "        date_counts[date] = 1\n",
    "\n",
    "# Returns total gun related deaths for each month\n",
    "date_counts"
   ]
  },
  {
   "cell_type": "markdown",
   "metadata": {},
   "source": [
    "We can also investigate the firearm deaths by sex and race. To do this we will use code similar to that used to investigate the gun deaths per year. Instead of writing the code seperately for both sex and race, we will write a generic function."
   ]
  },
  {
   "cell_type": "code",
   "execution_count": 6,
   "metadata": {},
   "outputs": [],
   "source": [
    "def counts(data, column):\n",
    "     # coi = column of interest\n",
    "    coi = [line[column] for line in data]\n",
    "    \n",
    "    num_counts = {}\n",
    "    \n",
    "    for item in coi:\n",
    "        if item in num_counts:\n",
    "            num_counts[item] += 1\n",
    "        else:\n",
    "            num_counts[item] = 1\n",
    "    return num_counts"
   ]
  },
  {
   "cell_type": "code",
   "execution_count": 7,
   "metadata": {},
   "outputs": [
    {
     "name": "stdout",
     "output_type": "stream",
     "text": [
      "{'M': 86349, 'F': 14449}\n",
      "{'Asian/Pacific Islander': 1326, 'White': 66237, 'Native American/Native Alaskan': 917, 'Black': 23296, 'Hispanic': 9022}\n"
     ]
    }
   ],
   "source": [
    "sex_counts = counts(data, 5)\n",
    "race_counts = counts(data, 7)\n",
    "print(sex_counts)\n",
    "print(race_counts)"
   ]
  },
  {
   "cell_type": "markdown",
   "metadata": {},
   "source": [
    "From the investigation so far it can be noted that gun deaths in the US seem to disproportionately affect men as opposed to women. This disproportion is also observed when viewing the gun deaths by race, in this case a greater number of white individuals died due to firearms when compared with individuals of different races. \n",
    "\n",
    "This information isn't really useful unless we know the proportion of each race in the US. We have census data for the US from 2010 that can help in this regard. The 'census.csv' data contains information on the total population of the US, as well as the total population of each racial group in the US. \n"
   ]
  },
  {
   "cell_type": "code",
   "execution_count": 8,
   "metadata": {},
   "outputs": [
    {
     "name": "stdout",
     "output_type": "stream",
     "text": [
      "[['Id', 'Year', 'Id', 'Sex', 'Id', 'Hispanic Origin', 'Id', 'Id2', 'Geography', 'Total', 'Race Alone - White', 'Race Alone - Hispanic', 'Race Alone - Black or African American', 'Race Alone - American Indian and Alaska Native', 'Race Alone - Asian', 'Race Alone - Native Hawaiian and Other Pacific Islander', 'Two or More Races'], ['cen42010', 'April 1, 2010 Census', 'totsex', 'Both Sexes', 'tothisp', 'Total', '0100000US', '', 'United States', '308745538', '197318956', '44618105', '40250635', '3739506', '15159516', '674625', '6984195']]\n"
     ]
    }
   ],
   "source": [
    "f2 = open('census.csv')\n",
    "csvreader2 = csv.reader(f2)\n",
    "census = list(csvreader2)\n",
    "print(census)"
   ]
  },
  {
   "cell_type": "markdown",
   "metadata": {},
   "source": [
    "First, we will manually create a dictionary of the total population of each race from the census data set above. We will then create another dictionary with each race as the key and the value being the rate of gun deaths per 100k people."
   ]
  },
  {
   "cell_type": "code",
   "execution_count": 9,
   "metadata": {},
   "outputs": [
    {
     "data": {
      "text/plain": [
       "{'Asian/Pacific Islander': 8.374309664161762,\n",
       " 'White': 33.56849303419181,\n",
       " 'Native American/Native Alaskan': 24.521955573811088,\n",
       " 'Black': 57.8773477735196,\n",
       " 'Hispanic': 20.220491210910907}"
      ]
     },
     "execution_count": 9,
     "metadata": {},
     "output_type": "execute_result"
    }
   ],
   "source": [
    "mapping = {}\n",
    "# Asain and Pacifc Islander need to be added together as they are two seperate races in the census data set\n",
    "mapping['Asian/Pacific Islander'] = 15159516 + 674625\n",
    "mapping['Black'] = 40250635\n",
    "mapping['Native American/Native Alaskan'] = 3739506\n",
    "mapping['Hispanic'] = 44618105 \n",
    "mapping['White'] = 197318956\n",
    "\n",
    "race_per_hundredk = {}\n",
    "\n",
    "# We can iterate both the key and the value in a dictionary using .items()\n",
    "for race, deaths in race_counts.items():\n",
    "    race_per_hundredk[race] = (deaths / mapping[race]) * 100000\n",
    "    \n",
    "race_per_hundredk"
   ]
  },
  {
   "cell_type": "markdown",
   "metadata": {},
   "source": [
    "From this investigation we can see that Black individuals have the most gun related deaths per 100k people. We can filter our results, and restrict them to the Homicide intent. This will tell us the gun related muder rate for each race per 100k people.\n"
   ]
  },
  {
   "cell_type": "code",
   "execution_count": 10,
   "metadata": {},
   "outputs": [],
   "source": [
    "intent = [line[3] for line in data]\n",
    "races = [line[7] for line in data]\n",
    "\n",
    "race_counts_homicide = {}\n",
    "# Use the eumerate() function to loop through each index and value in the race column\n",
    "for i, race in enumerate(races):\n",
    "    if race not in race_counts_homicide:\n",
    "        race_counts_homicide[race] = 0\n",
    "    if intent[i] == 'Homicide':\n",
    "        race_counts_homicide[race] += 1"
   ]
  },
  {
   "cell_type": "code",
   "execution_count": 11,
   "metadata": {},
   "outputs": [
    {
     "data": {
      "text/plain": [
       "{'Asian/Pacific Islander': 3.530346230970155,\n",
       " 'White': 4.6356417981453335,\n",
       " 'Native American/Native Alaskan': 8.717729026240365,\n",
       " 'Black': 48.471284987180944,\n",
       " 'Hispanic': 12.627161104219914}"
      ]
     },
     "execution_count": 11,
     "metadata": {},
     "output_type": "execute_result"
    }
   ],
   "source": [
    "homicide_race_per_hundredk = {}\n",
    "# race = key(k) and deaths = value(v)\n",
    "for k, v in race_counts_homicide.items():\n",
    "    homicide_race_per_hundredk[k] = (v / mapping[k]) * 100000\n",
    "    \n",
    "homicide_race_per_hundredk"
   ]
  },
  {
   "cell_type": "markdown",
   "metadata": {},
   "source": [
    "From this we can see that the homicide rate is highest among Black individuals."
   ]
  },
  {
   "cell_type": "markdown",
   "metadata": {},
   "source": [
    "Let's now complette a number of other investigations:\n",
    "\n",
    "- **The link between the month and homicide rate.**"
   ]
  },
  {
   "cell_type": "code",
   "execution_count": 12,
   "metadata": {},
   "outputs": [
    {
     "name": "stdout",
     "output_type": "stream",
     "text": [
      "{'01': 2829, '02': 2178, '03': 2780, '04': 2845, '05': 2976, '06': 3130, '07': 3269, '08': 3125, '09': 2966, '10': 2968, '11': 2919, '12': 3191}\n"
     ]
    }
   ],
   "source": [
    "months = [line[2] for line in data]\n",
    "\n",
    "homicides_per_month = {}\n",
    "\n",
    "for i, month in enumerate(months):\n",
    "    if month not in homicides_per_month:\n",
    "        homicides_per_month[month] = 0\n",
    "    if intent[i] == 'Homicide':\n",
    "        homicides_per_month[month] += 1\n",
    "        \n",
    "print(homicides_per_month)"
   ]
  },
  {
   "cell_type": "markdown",
   "metadata": {},
   "source": [
    "We can see that tthe number of Homicides trends upwards from Febuary until it reaches it peak in July. The summer months tend to have the highest number of homicides and Febuary contains the lowest homicides of all the months, ~33% lower than the peak month of July."
   ]
  },
  {
   "cell_type": "markdown",
   "metadata": {},
   "source": [
    "- **Homicide rate by gender.**"
   ]
  },
  {
   "cell_type": "code",
   "execution_count": 13,
   "metadata": {},
   "outputs": [
    {
     "data": {
      "text/plain": [
       "{'M': 29803, 'F': 5373}"
      ]
     },
     "execution_count": 13,
     "metadata": {},
     "output_type": "execute_result"
    }
   ],
   "source": [
    "sex = [line[5] for line in data]\n",
    "\n",
    "homicide_by_gender = {}\n",
    "\n",
    "for i, gender in enumerate(sex):\n",
    "    if gender not in homicide_by_gender:\n",
    "        homicide_by_gender[gender] = 0\n",
    "    if intent[i] == 'Homicide':\n",
    "        homicide_by_gender[gender] += 1\n",
    "\n",
    "        \n",
    "homicide_by_gender"
   ]
  },
  {
   "cell_type": "code",
   "execution_count": 14,
   "metadata": {},
   "outputs": [
    {
     "data": {
      "text/plain": [
       "{'M': 0.34514586156180155, 'F': 0.3718596442660392}"
      ]
     },
     "execution_count": 14,
     "metadata": {},
     "output_type": "execute_result"
    }
   ],
   "source": [
    "homicide_rates_by_gender = {}\n",
    "\n",
    "for k, v in homicide_by_gender.items():\n",
    "    homicide_rates_by_gender[k] = v / sex_counts[k]\n",
    "    \n",
    "homicide_rates_by_gender"
   ]
  },
  {
   "cell_type": "markdown",
   "metadata": {},
   "source": [
    "From the calculation we can see that homicide rates by gender account for approximately 37% and 34% of the total gun related deaths of females and males respectively.\n",
    "\n",
    "- **The rates of other intents by gender and race.**"
   ]
  },
  {
   "cell_type": "code",
   "execution_count": 15,
   "metadata": {},
   "outputs": [
    {
     "data": {
      "text/plain": [
       "{'Accidental', 'Homicide', 'NA', 'Suicide', 'Undetermined'}"
      ]
     },
     "execution_count": 15,
     "metadata": {},
     "output_type": "execute_result"
    }
   ],
   "source": [
    "# unique set of intents in the data set\n",
    "unique_intent = set(intent)\n",
    "unique_intent"
   ]
  },
  {
   "cell_type": "code",
   "execution_count": 16,
   "metadata": {},
   "outputs": [],
   "source": [
    "# intent_req = string of required intent\n",
    "def death_rates_by_race(data, intent_req):\n",
    "    \n",
    "    intent = [line[3] for line in data]\n",
    "    races = [line[7] for line in data]\n",
    "\n",
    "    death_counts = {}\n",
    "\n",
    "    for i, race in enumerate(races):\n",
    "        if race not in death_counts:\n",
    "            death_counts[race] = 0\n",
    "        if intent[i] == intent_req:\n",
    "            death_counts[race] += 1\n",
    "            \n",
    "    death_rates_per_hundredk = {}\n",
    "\n",
    "    for k, v in death_counts.items():\n",
    "        death_rates_per_hundredk[k] = (v / mapping[k]) * 100000\n",
    "    return death_rates_per_hundredk"
   ]
  },
  {
   "cell_type": "code",
   "execution_count": 17,
   "metadata": {},
   "outputs": [
    {
     "data": {
      "text/plain": [
       "{'Asian/Pacific Islander': 0.07578560782046845,\n",
       " 'White': 0.5736904466492313,\n",
       " 'Native American/Native Alaskan': 0.5883130017708221,\n",
       " 'Black': 0.814893976206835,\n",
       " 'Hispanic': 0.3249801846133985}"
      ]
     },
     "execution_count": 17,
     "metadata": {},
     "output_type": "execute_result"
    }
   ],
   "source": [
    "accidental_deaths_by_race_hundredk = death_rates_by_race(data, 'Accidental')\n",
    "accidental_deaths_by_race_hundredk"
   ]
  },
  {
   "cell_type": "code",
   "execution_count": 18,
   "metadata": {},
   "outputs": [
    {
     "data": {
      "text/plain": [
       "{'Asian/Pacific Islander': 0.0,\n",
       " 'White': 0.0005067936807855399,\n",
       " 'Native American/Native Alaskan': 0.0,\n",
       " 'Black': 0.0,\n",
       " 'Hispanic': 0.0}"
      ]
     },
     "execution_count": 18,
     "metadata": {},
     "output_type": "execute_result"
    }
   ],
   "source": [
    "na_deaths_by_race_hundredk = death_rates_by_race(data, 'NA')\n",
    "na_deaths_by_race_hundredk"
   ]
  },
  {
   "cell_type": "code",
   "execution_count": 19,
   "metadata": {},
   "outputs": [
    {
     "data": {
      "text/plain": [
       "{'Asian/Pacific Islander': 4.705023152187416,\n",
       " 'White': 28.06217969245692,\n",
       " 'Native American/Native Alaskan': 14.841532544673013,\n",
       " 'Black': 8.278130270491385,\n",
       " 'Hispanic': 7.106980451097149}"
      ]
     },
     "execution_count": 19,
     "metadata": {},
     "output_type": "execute_result"
    }
   ],
   "source": [
    "suicide_deaths_by_race_hundredk = death_rates_by_race(data, 'Suicide')\n",
    "suicide_deaths_by_race_hundredk"
   ]
  },
  {
   "cell_type": "code",
   "execution_count": 20,
   "metadata": {},
   "outputs": [
    {
     "data": {
      "text/plain": [
       "{'Asian/Pacific Islander': 0.0631546731837237,\n",
       " 'White': 0.2964743032595409,\n",
       " 'Native American/Native Alaskan': 0.3743810011268868,\n",
       " 'Black': 0.3130385396404305,\n",
       " 'Hispanic': 0.16136947098044616}"
      ]
     },
     "execution_count": 20,
     "metadata": {},
     "output_type": "execute_result"
    }
   ],
   "source": [
    "undetermined_deaths_by_race_hundredk = death_rates_by_race(data, 'Undetermined')\n",
    "undetermined_deaths_by_race_hundredk"
   ]
  },
  {
   "cell_type": "code",
   "execution_count": 21,
   "metadata": {},
   "outputs": [],
   "source": [
    "# intent_req = string of required intent\n",
    "def death_rates_by_gender(data, intent_req):\n",
    "    \n",
    "    intent = [line[3] for line in data]\n",
    "    sex = [line[5] for line in data]\n",
    "\n",
    "    death_counts = {}\n",
    "\n",
    "    for i, gender in enumerate(sex):\n",
    "        if gender not in death_counts:\n",
    "            death_counts[gender] = 0\n",
    "        if intent[i] == intent_req:\n",
    "            death_counts[gender] += 1 \n",
    "    death_rates = {}\n",
    "\n",
    "    for k, v in death_counts.items():\n",
    "        death_rates[k] = (v / sex_counts[k])\n",
    "    return death_rates"
   ]
  },
  {
   "cell_type": "code",
   "execution_count": 22,
   "metadata": {},
   "outputs": [
    {
     "data": {
      "text/plain": [
       "{'M': 0.0164564731496601, 'F': 0.015087549311371028}"
      ]
     },
     "execution_count": 22,
     "metadata": {},
     "output_type": "execute_result"
    }
   ],
   "source": [
    "accidental_deaths_by_gender = death_rates_by_gender(data, 'Accidental')\n",
    "accidental_deaths_by_gender"
   ]
  },
  {
   "cell_type": "code",
   "execution_count": 23,
   "metadata": {},
   "outputs": [
    {
     "data": {
      "text/plain": [
       "{'M': 1.1580910027909993e-05, 'F': 0.0}"
      ]
     },
     "execution_count": 23,
     "metadata": {},
     "output_type": "execute_result"
    }
   ],
   "source": [
    "na_deaths_by_gender = death_rates_by_gender(data, 'NA')\n",
    "na_deaths_by_gender"
   ]
  },
  {
   "cell_type": "code",
   "execution_count": 24,
   "metadata": {},
   "outputs": [
    {
     "data": {
      "text/plain": [
       "{'M': 0.6309974637807039, 'F': 0.6013564952591874}"
      ]
     },
     "execution_count": 24,
     "metadata": {},
     "output_type": "execute_result"
    }
   ],
   "source": [
    "suicide_deaths_by_gender = death_rates_by_gender(data, 'Suicide')\n",
    "suicide_deaths_by_gender"
   ]
  },
  {
   "cell_type": "code",
   "execution_count": 25,
   "metadata": {},
   "outputs": [
    {
     "data": {
      "text/plain": [
       "{'M': 0.007388620597806575, 'F': 0.011696311163402312}"
      ]
     },
     "execution_count": 25,
     "metadata": {},
     "output_type": "execute_result"
    }
   ],
   "source": [
    "undetermined_deaths_by_gender = death_rates_by_gender(data, 'Undetermined')\n",
    "undetermined_deaths_by_gender"
   ]
  }
 ],
 "metadata": {
  "kernelspec": {
   "display_name": "Python 3",
   "language": "python",
   "name": "python3"
  },
  "language_info": {
   "codemirror_mode": {
    "name": "ipython",
    "version": 3
   },
   "file_extension": ".py",
   "mimetype": "text/x-python",
   "name": "python",
   "nbconvert_exporter": "python",
   "pygments_lexer": "ipython3",
   "version": "3.6.5"
  }
 },
 "nbformat": 4,
 "nbformat_minor": 2
}
